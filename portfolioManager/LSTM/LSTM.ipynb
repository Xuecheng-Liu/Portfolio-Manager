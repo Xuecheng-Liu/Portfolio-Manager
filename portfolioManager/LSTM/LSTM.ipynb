{
 "cells": [
  {
   "cell_type": "markdown",
   "metadata": {
    "collapsed": true,
    "pycharm": {
     "name": "#%% md\n"
    }
   },
   "source": [
    "# Data Fetching"
   ]
  },
  {
   "cell_type": "code",
   "execution_count": 58,
   "metadata": {
    "pycharm": {
     "name": "#%%\n"
    }
   },
   "outputs": [
    {
     "name": "stdout",
     "output_type": "stream",
     "text": [
      "[*********************100%***********************]  1 of 1 completed\n"
     ]
    },
    {
     "data": {
      "text/html": [
       "<div>\n",
       "<style scoped>\n",
       "    .dataframe tbody tr th:only-of-type {\n",
       "        vertical-align: middle;\n",
       "    }\n",
       "\n",
       "    .dataframe tbody tr th {\n",
       "        vertical-align: top;\n",
       "    }\n",
       "\n",
       "    .dataframe thead th {\n",
       "        text-align: right;\n",
       "    }\n",
       "</style>\n",
       "<table border=\"1\" class=\"dataframe\">\n",
       "  <thead>\n",
       "    <tr style=\"text-align: right;\">\n",
       "      <th></th>\n",
       "      <th>Open</th>\n",
       "      <th>High</th>\n",
       "      <th>Low</th>\n",
       "      <th>Close</th>\n",
       "      <th>Adj Close</th>\n",
       "      <th>Volume</th>\n",
       "    </tr>\n",
       "    <tr>\n",
       "      <th>Date</th>\n",
       "      <th></th>\n",
       "      <th></th>\n",
       "      <th></th>\n",
       "      <th></th>\n",
       "      <th></th>\n",
       "      <th></th>\n",
       "    </tr>\n",
       "  </thead>\n",
       "  <tbody>\n",
       "    <tr>\n",
       "      <th>2018-06-19</th>\n",
       "      <td>49.700001</td>\n",
       "      <td>50.060001</td>\n",
       "      <td>49.580002</td>\n",
       "      <td>49.959999</td>\n",
       "      <td>48.118782</td>\n",
       "      <td>16600</td>\n",
       "    </tr>\n",
       "    <tr>\n",
       "      <th>2018-06-20</th>\n",
       "      <td>50.450001</td>\n",
       "      <td>50.889000</td>\n",
       "      <td>50.450001</td>\n",
       "      <td>50.580002</td>\n",
       "      <td>48.715939</td>\n",
       "      <td>190000</td>\n",
       "    </tr>\n",
       "    <tr>\n",
       "      <th>2018-06-21</th>\n",
       "      <td>50.770000</td>\n",
       "      <td>50.849998</td>\n",
       "      <td>50.200001</td>\n",
       "      <td>50.270000</td>\n",
       "      <td>48.417347</td>\n",
       "      <td>428700</td>\n",
       "    </tr>\n",
       "    <tr>\n",
       "      <th>2018-06-22</th>\n",
       "      <td>50.590000</td>\n",
       "      <td>50.610001</td>\n",
       "      <td>50.189999</td>\n",
       "      <td>50.490002</td>\n",
       "      <td>48.629253</td>\n",
       "      <td>181500</td>\n",
       "    </tr>\n",
       "    <tr>\n",
       "      <th>2018-06-25</th>\n",
       "      <td>50.230000</td>\n",
       "      <td>50.230000</td>\n",
       "      <td>49.014999</td>\n",
       "      <td>49.450001</td>\n",
       "      <td>47.627579</td>\n",
       "      <td>2509600</td>\n",
       "    </tr>\n",
       "  </tbody>\n",
       "</table>\n",
       "</div>"
      ],
      "text/plain": [
       "                 Open       High        Low      Close  Adj Close   Volume\n",
       "Date                                                                      \n",
       "2018-06-19  49.700001  50.060001  49.580002  49.959999  48.118782    16600\n",
       "2018-06-20  50.450001  50.889000  50.450001  50.580002  48.715939   190000\n",
       "2018-06-21  50.770000  50.849998  50.200001  50.270000  48.417347   428700\n",
       "2018-06-22  50.590000  50.610001  50.189999  50.490002  48.629253   181500\n",
       "2018-06-25  50.230000  50.230000  49.014999  49.450001  47.627579  2509600"
      ]
     },
     "execution_count": 58,
     "metadata": {},
     "output_type": "execute_result"
    }
   ],
   "source": [
    "import yfinance as yf\n",
    "\n",
    "XLC_data = yf.download(\n",
    "        # tickers list or string as well\n",
    "        tickers = \"XLC\",\n",
    "\n",
    "        # use \"period\" instead of start/end\n",
    "        # valid periods: 1d,5d,1mo,3mo,6mo,1y,2y,5y,10y,ytd,max\n",
    "        # (optional, default is '1mo')\n",
    "        period = \"max\",\n",
    "\n",
    "        # fetch data by interval (including intraday if period < 60 days)\n",
    "        # valid intervals: 1m,2m,5m,15m,30m,60m,90m,1h,1d,5d,1wk,1mo,3mo\n",
    "        # (optional, default is '1d')\n",
    "        interval = \"1d\",\n",
    "\n",
    "        # adjust all OHLC automatically\n",
    "        # (optional, default is False)\n",
    "        auto_adjust = False,\n",
    "\n",
    "        # download pre/post regular market hours data\n",
    "        # (optional, default is False)\n",
    "        prepost = False,\n",
    "\n",
    "        # use threads for mass downloading? (True/False/Integer)\n",
    "        # (optional, default is True)\n",
    "        threads = True,\n",
    "\n",
    "        # proxy URL scheme use use when downloading?\n",
    "        # (optional, default is None)\n",
    "        proxy = None\n",
    "    )\n",
    "\n",
    "XLC_data.head()"
   ]
  },
  {
   "cell_type": "code",
   "execution_count": 59,
   "metadata": {
    "pycharm": {
     "name": "#%%\n"
    }
   },
   "outputs": [
    {
     "name": "stdout",
     "output_type": "stream",
     "text": [
      "[*********************100%***********************]  1 of 1 completed\n"
     ]
    },
    {
     "data": {
      "text/html": [
       "<div>\n",
       "<style scoped>\n",
       "    .dataframe tbody tr th:only-of-type {\n",
       "        vertical-align: middle;\n",
       "    }\n",
       "\n",
       "    .dataframe tbody tr th {\n",
       "        vertical-align: top;\n",
       "    }\n",
       "\n",
       "    .dataframe thead th {\n",
       "        text-align: right;\n",
       "    }\n",
       "</style>\n",
       "<table border=\"1\" class=\"dataframe\">\n",
       "  <thead>\n",
       "    <tr style=\"text-align: right;\">\n",
       "      <th></th>\n",
       "      <th>Open</th>\n",
       "      <th>High</th>\n",
       "      <th>Low</th>\n",
       "      <th>Close</th>\n",
       "      <th>Adj Close</th>\n",
       "      <th>Volume</th>\n",
       "    </tr>\n",
       "    <tr>\n",
       "      <th>Date</th>\n",
       "      <th></th>\n",
       "      <th></th>\n",
       "      <th></th>\n",
       "      <th></th>\n",
       "      <th></th>\n",
       "      <th></th>\n",
       "    </tr>\n",
       "  </thead>\n",
       "  <tbody>\n",
       "    <tr>\n",
       "      <th>1998-12-22</th>\n",
       "      <td>25.312500</td>\n",
       "      <td>25.468750</td>\n",
       "      <td>25.312500</td>\n",
       "      <td>25.468750</td>\n",
       "      <td>19.335157</td>\n",
       "      <td>3700</td>\n",
       "    </tr>\n",
       "    <tr>\n",
       "      <th>1998-12-23</th>\n",
       "      <td>25.500000</td>\n",
       "      <td>25.750000</td>\n",
       "      <td>25.468750</td>\n",
       "      <td>25.578125</td>\n",
       "      <td>19.418198</td>\n",
       "      <td>12000</td>\n",
       "    </tr>\n",
       "    <tr>\n",
       "      <th>1998-12-24</th>\n",
       "      <td>25.937500</td>\n",
       "      <td>26.046875</td>\n",
       "      <td>25.812500</td>\n",
       "      <td>26.046875</td>\n",
       "      <td>19.774063</td>\n",
       "      <td>1600</td>\n",
       "    </tr>\n",
       "    <tr>\n",
       "      <th>1998-12-28</th>\n",
       "      <td>25.921875</td>\n",
       "      <td>25.937500</td>\n",
       "      <td>25.812500</td>\n",
       "      <td>25.812500</td>\n",
       "      <td>19.596132</td>\n",
       "      <td>8600</td>\n",
       "    </tr>\n",
       "    <tr>\n",
       "      <th>1998-12-29</th>\n",
       "      <td>25.890625</td>\n",
       "      <td>26.375000</td>\n",
       "      <td>25.890625</td>\n",
       "      <td>26.375000</td>\n",
       "      <td>20.023163</td>\n",
       "      <td>1100</td>\n",
       "    </tr>\n",
       "  </tbody>\n",
       "</table>\n",
       "</div>"
      ],
      "text/plain": [
       "                 Open       High        Low      Close  Adj Close  Volume\n",
       "Date                                                                     \n",
       "1998-12-22  25.312500  25.468750  25.312500  25.468750  19.335157    3700\n",
       "1998-12-23  25.500000  25.750000  25.468750  25.578125  19.418198   12000\n",
       "1998-12-24  25.937500  26.046875  25.812500  26.046875  19.774063    1600\n",
       "1998-12-28  25.921875  25.937500  25.812500  25.812500  19.596132    8600\n",
       "1998-12-29  25.890625  26.375000  25.890625  26.375000  20.023163    1100"
      ]
     },
     "execution_count": 59,
     "metadata": {},
     "output_type": "execute_result"
    }
   ],
   "source": [
    "XLY_data = yf.download(\n",
    "        tickers = \"XLY\",\n",
    "        period = \"max\",\n",
    "        interval = \"1d\",\n",
    "    )\n",
    "\n",
    "XLY_data.head()"
   ]
  },
  {
   "cell_type": "code",
   "execution_count": 60,
   "metadata": {
    "pycharm": {
     "name": "#%%\n"
    }
   },
   "outputs": [
    {
     "name": "stdout",
     "output_type": "stream",
     "text": [
      "[*********************100%***********************]  1 of 1 completed\n"
     ]
    },
    {
     "data": {
      "text/html": [
       "<div>\n",
       "<style scoped>\n",
       "    .dataframe tbody tr th:only-of-type {\n",
       "        vertical-align: middle;\n",
       "    }\n",
       "\n",
       "    .dataframe tbody tr th {\n",
       "        vertical-align: top;\n",
       "    }\n",
       "\n",
       "    .dataframe thead th {\n",
       "        text-align: right;\n",
       "    }\n",
       "</style>\n",
       "<table border=\"1\" class=\"dataframe\">\n",
       "  <thead>\n",
       "    <tr style=\"text-align: right;\">\n",
       "      <th></th>\n",
       "      <th>Open</th>\n",
       "      <th>High</th>\n",
       "      <th>Low</th>\n",
       "      <th>Close</th>\n",
       "      <th>Adj Close</th>\n",
       "      <th>Volume</th>\n",
       "    </tr>\n",
       "    <tr>\n",
       "      <th>Date</th>\n",
       "      <th></th>\n",
       "      <th></th>\n",
       "      <th></th>\n",
       "      <th></th>\n",
       "      <th></th>\n",
       "      <th></th>\n",
       "    </tr>\n",
       "  </thead>\n",
       "  <tbody>\n",
       "    <tr>\n",
       "      <th>1998-12-22</th>\n",
       "      <td>25.875000</td>\n",
       "      <td>26.531250</td>\n",
       "      <td>25.875000</td>\n",
       "      <td>26.500000</td>\n",
       "      <td>15.358264</td>\n",
       "      <td>150300</td>\n",
       "    </tr>\n",
       "    <tr>\n",
       "      <th>1998-12-23</th>\n",
       "      <td>26.796875</td>\n",
       "      <td>28.796875</td>\n",
       "      <td>26.687500</td>\n",
       "      <td>27.140625</td>\n",
       "      <td>15.729540</td>\n",
       "      <td>44000</td>\n",
       "    </tr>\n",
       "    <tr>\n",
       "      <th>1998-12-24</th>\n",
       "      <td>27.140625</td>\n",
       "      <td>27.140625</td>\n",
       "      <td>27.000000</td>\n",
       "      <td>27.093750</td>\n",
       "      <td>15.702372</td>\n",
       "      <td>45500</td>\n",
       "    </tr>\n",
       "    <tr>\n",
       "      <th>1998-12-28</th>\n",
       "      <td>27.140625</td>\n",
       "      <td>27.156250</td>\n",
       "      <td>26.812500</td>\n",
       "      <td>26.937500</td>\n",
       "      <td>15.611814</td>\n",
       "      <td>25400</td>\n",
       "    </tr>\n",
       "    <tr>\n",
       "      <th>1998-12-29</th>\n",
       "      <td>26.953125</td>\n",
       "      <td>27.562500</td>\n",
       "      <td>25.984375</td>\n",
       "      <td>27.531250</td>\n",
       "      <td>15.955930</td>\n",
       "      <td>123500</td>\n",
       "    </tr>\n",
       "  </tbody>\n",
       "</table>\n",
       "</div>"
      ],
      "text/plain": [
       "                 Open       High        Low      Close  Adj Close  Volume\n",
       "Date                                                                     \n",
       "1998-12-22  25.875000  26.531250  25.875000  26.500000  15.358264  150300\n",
       "1998-12-23  26.796875  28.796875  26.687500  27.140625  15.729540   44000\n",
       "1998-12-24  27.140625  27.140625  27.000000  27.093750  15.702372   45500\n",
       "1998-12-28  27.140625  27.156250  26.812500  26.937500  15.611814   25400\n",
       "1998-12-29  26.953125  27.562500  25.984375  27.531250  15.955930  123500"
      ]
     },
     "execution_count": 60,
     "metadata": {},
     "output_type": "execute_result"
    }
   ],
   "source": [
    "XLP_data = yf.download(\n",
    "        tickers = \"XLP\",\n",
    "        period = \"max\",\n",
    "        interval = \"1d\",\n",
    "    )\n",
    "\n",
    "XLP_data.head()"
   ]
  },
  {
   "cell_type": "code",
   "execution_count": 61,
   "metadata": {
    "pycharm": {
     "name": "#%%\n"
    }
   },
   "outputs": [
    {
     "name": "stdout",
     "output_type": "stream",
     "text": [
      "[*********************100%***********************]  1 of 1 completed\n"
     ]
    },
    {
     "data": {
      "text/html": [
       "<div>\n",
       "<style scoped>\n",
       "    .dataframe tbody tr th:only-of-type {\n",
       "        vertical-align: middle;\n",
       "    }\n",
       "\n",
       "    .dataframe tbody tr th {\n",
       "        vertical-align: top;\n",
       "    }\n",
       "\n",
       "    .dataframe thead th {\n",
       "        text-align: right;\n",
       "    }\n",
       "</style>\n",
       "<table border=\"1\" class=\"dataframe\">\n",
       "  <thead>\n",
       "    <tr style=\"text-align: right;\">\n",
       "      <th></th>\n",
       "      <th>Open</th>\n",
       "      <th>High</th>\n",
       "      <th>Low</th>\n",
       "      <th>Close</th>\n",
       "      <th>Adj Close</th>\n",
       "      <th>Volume</th>\n",
       "    </tr>\n",
       "    <tr>\n",
       "      <th>Date</th>\n",
       "      <th></th>\n",
       "      <th></th>\n",
       "      <th></th>\n",
       "      <th></th>\n",
       "      <th></th>\n",
       "      <th></th>\n",
       "    </tr>\n",
       "  </thead>\n",
       "  <tbody>\n",
       "    <tr>\n",
       "      <th>1998-12-22</th>\n",
       "      <td>23.31250</td>\n",
       "      <td>23.390625</td>\n",
       "      <td>23.18750</td>\n",
       "      <td>23.265625</td>\n",
       "      <td>12.914152</td>\n",
       "      <td>15200</td>\n",
       "    </tr>\n",
       "    <tr>\n",
       "      <th>1998-12-23</th>\n",
       "      <td>23.34375</td>\n",
       "      <td>23.750000</td>\n",
       "      <td>23.31250</td>\n",
       "      <td>23.750000</td>\n",
       "      <td>13.183020</td>\n",
       "      <td>67800</td>\n",
       "    </tr>\n",
       "    <tr>\n",
       "      <th>1998-12-24</th>\n",
       "      <td>23.81250</td>\n",
       "      <td>23.812500</td>\n",
       "      <td>23.59375</td>\n",
       "      <td>23.625000</td>\n",
       "      <td>13.113632</td>\n",
       "      <td>12300</td>\n",
       "    </tr>\n",
       "    <tr>\n",
       "      <th>1998-12-28</th>\n",
       "      <td>23.75000</td>\n",
       "      <td>23.750000</td>\n",
       "      <td>23.34375</td>\n",
       "      <td>23.500000</td>\n",
       "      <td>13.044250</td>\n",
       "      <td>13500</td>\n",
       "    </tr>\n",
       "    <tr>\n",
       "      <th>1998-12-29</th>\n",
       "      <td>23.56250</td>\n",
       "      <td>23.734375</td>\n",
       "      <td>23.34375</td>\n",
       "      <td>23.734375</td>\n",
       "      <td>13.174346</td>\n",
       "      <td>22000</td>\n",
       "    </tr>\n",
       "  </tbody>\n",
       "</table>\n",
       "</div>"
      ],
      "text/plain": [
       "                Open       High       Low      Close  Adj Close  Volume\n",
       "Date                                                                   \n",
       "1998-12-22  23.31250  23.390625  23.18750  23.265625  12.914152   15200\n",
       "1998-12-23  23.34375  23.750000  23.31250  23.750000  13.183020   67800\n",
       "1998-12-24  23.81250  23.812500  23.59375  23.625000  13.113632   12300\n",
       "1998-12-28  23.75000  23.750000  23.34375  23.500000  13.044250   13500\n",
       "1998-12-29  23.56250  23.734375  23.34375  23.734375  13.174346   22000"
      ]
     },
     "execution_count": 61,
     "metadata": {},
     "output_type": "execute_result"
    }
   ],
   "source": [
    "XLE_data = yf.download(\n",
    "        tickers = \"XLE\",\n",
    "        period = \"max\",\n",
    "        interval = \"1d\",\n",
    "    )\n",
    "\n",
    "XLE_data.head()"
   ]
  },
  {
   "cell_type": "code",
   "execution_count": 62,
   "metadata": {
    "pycharm": {
     "name": "#%%\n"
    }
   },
   "outputs": [
    {
     "name": "stdout",
     "output_type": "stream",
     "text": [
      "[*********************100%***********************]  1 of 1 completed\n"
     ]
    },
    {
     "data": {
      "text/html": [
       "<div>\n",
       "<style scoped>\n",
       "    .dataframe tbody tr th:only-of-type {\n",
       "        vertical-align: middle;\n",
       "    }\n",
       "\n",
       "    .dataframe tbody tr th {\n",
       "        vertical-align: top;\n",
       "    }\n",
       "\n",
       "    .dataframe thead th {\n",
       "        text-align: right;\n",
       "    }\n",
       "</style>\n",
       "<table border=\"1\" class=\"dataframe\">\n",
       "  <thead>\n",
       "    <tr style=\"text-align: right;\">\n",
       "      <th></th>\n",
       "      <th>Open</th>\n",
       "      <th>High</th>\n",
       "      <th>Low</th>\n",
       "      <th>Close</th>\n",
       "      <th>Adj Close</th>\n",
       "      <th>Volume</th>\n",
       "    </tr>\n",
       "    <tr>\n",
       "      <th>Date</th>\n",
       "      <th></th>\n",
       "      <th></th>\n",
       "      <th></th>\n",
       "      <th></th>\n",
       "      <th></th>\n",
       "      <th></th>\n",
       "    </tr>\n",
       "  </thead>\n",
       "  <tbody>\n",
       "    <tr>\n",
       "      <th>1998-12-22</th>\n",
       "      <td>19.052092</td>\n",
       "      <td>19.052092</td>\n",
       "      <td>18.849005</td>\n",
       "      <td>18.937855</td>\n",
       "      <td>11.849174</td>\n",
       "      <td>55887</td>\n",
       "    </tr>\n",
       "    <tr>\n",
       "      <th>1998-12-23</th>\n",
       "      <td>18.861698</td>\n",
       "      <td>19.217100</td>\n",
       "      <td>18.861698</td>\n",
       "      <td>19.217100</td>\n",
       "      <td>12.023886</td>\n",
       "      <td>78784</td>\n",
       "    </tr>\n",
       "    <tr>\n",
       "      <th>1998-12-24</th>\n",
       "      <td>19.217100</td>\n",
       "      <td>19.344028</td>\n",
       "      <td>19.153635</td>\n",
       "      <td>19.344028</td>\n",
       "      <td>12.103310</td>\n",
       "      <td>43824</td>\n",
       "    </tr>\n",
       "    <tr>\n",
       "      <th>1998-12-28</th>\n",
       "      <td>19.331335</td>\n",
       "      <td>19.331335</td>\n",
       "      <td>19.039398</td>\n",
       "      <td>19.090172</td>\n",
       "      <td>11.944478</td>\n",
       "      <td>51948</td>\n",
       "    </tr>\n",
       "    <tr>\n",
       "      <th>1998-12-29</th>\n",
       "      <td>19.115557</td>\n",
       "      <td>19.293259</td>\n",
       "      <td>18.887083</td>\n",
       "      <td>19.293259</td>\n",
       "      <td>12.071541</td>\n",
       "      <td>100819</td>\n",
       "    </tr>\n",
       "  </tbody>\n",
       "</table>\n",
       "</div>"
      ],
      "text/plain": [
       "                 Open       High        Low      Close  Adj Close  Volume\n",
       "Date                                                                     \n",
       "1998-12-22  19.052092  19.052092  18.849005  18.937855  11.849174   55887\n",
       "1998-12-23  18.861698  19.217100  18.861698  19.217100  12.023886   78784\n",
       "1998-12-24  19.217100  19.344028  19.153635  19.344028  12.103310   43824\n",
       "1998-12-28  19.331335  19.331335  19.039398  19.090172  11.944478   51948\n",
       "1998-12-29  19.115557  19.293259  18.887083  19.293259  12.071541  100819"
      ]
     },
     "execution_count": 62,
     "metadata": {},
     "output_type": "execute_result"
    }
   ],
   "source": [
    "XLF_data = yf.download(\n",
    "        tickers = \"XLF\",\n",
    "        period = \"max\",\n",
    "        interval = \"1d\",\n",
    "    )\n",
    "\n",
    "XLF_data.head()"
   ]
  },
  {
   "cell_type": "code",
   "execution_count": 63,
   "metadata": {
    "pycharm": {
     "name": "#%%\n"
    }
   },
   "outputs": [
    {
     "name": "stdout",
     "output_type": "stream",
     "text": [
      "[*********************100%***********************]  1 of 1 completed\n"
     ]
    },
    {
     "data": {
      "text/html": [
       "<div>\n",
       "<style scoped>\n",
       "    .dataframe tbody tr th:only-of-type {\n",
       "        vertical-align: middle;\n",
       "    }\n",
       "\n",
       "    .dataframe tbody tr th {\n",
       "        vertical-align: top;\n",
       "    }\n",
       "\n",
       "    .dataframe thead th {\n",
       "        text-align: right;\n",
       "    }\n",
       "</style>\n",
       "<table border=\"1\" class=\"dataframe\">\n",
       "  <thead>\n",
       "    <tr style=\"text-align: right;\">\n",
       "      <th></th>\n",
       "      <th>Open</th>\n",
       "      <th>High</th>\n",
       "      <th>Low</th>\n",
       "      <th>Close</th>\n",
       "      <th>Adj Close</th>\n",
       "      <th>Volume</th>\n",
       "    </tr>\n",
       "    <tr>\n",
       "      <th>Date</th>\n",
       "      <th></th>\n",
       "      <th></th>\n",
       "      <th></th>\n",
       "      <th></th>\n",
       "      <th></th>\n",
       "      <th></th>\n",
       "    </tr>\n",
       "  </thead>\n",
       "  <tbody>\n",
       "    <tr>\n",
       "      <th>1998-12-22</th>\n",
       "      <td>24.812500</td>\n",
       "      <td>25.06250</td>\n",
       "      <td>24.812500</td>\n",
       "      <td>25.03125</td>\n",
       "      <td>17.791874</td>\n",
       "      <td>5700</td>\n",
       "    </tr>\n",
       "    <tr>\n",
       "      <th>1998-12-23</th>\n",
       "      <td>25.187500</td>\n",
       "      <td>25.59375</td>\n",
       "      <td>25.187500</td>\n",
       "      <td>25.59375</td>\n",
       "      <td>18.191702</td>\n",
       "      <td>18100</td>\n",
       "    </tr>\n",
       "    <tr>\n",
       "      <th>1998-12-24</th>\n",
       "      <td>25.625000</td>\n",
       "      <td>25.75000</td>\n",
       "      <td>25.515625</td>\n",
       "      <td>25.75000</td>\n",
       "      <td>18.302746</td>\n",
       "      <td>4900</td>\n",
       "    </tr>\n",
       "    <tr>\n",
       "      <th>1998-12-28</th>\n",
       "      <td>25.671875</td>\n",
       "      <td>25.75000</td>\n",
       "      <td>25.375000</td>\n",
       "      <td>25.37500</td>\n",
       "      <td>18.036209</td>\n",
       "      <td>15500</td>\n",
       "    </tr>\n",
       "    <tr>\n",
       "      <th>1998-12-29</th>\n",
       "      <td>25.375000</td>\n",
       "      <td>25.93750</td>\n",
       "      <td>25.375000</td>\n",
       "      <td>25.93750</td>\n",
       "      <td>18.436020</td>\n",
       "      <td>5300</td>\n",
       "    </tr>\n",
       "  </tbody>\n",
       "</table>\n",
       "</div>"
      ],
      "text/plain": [
       "                 Open      High        Low     Close  Adj Close  Volume\n",
       "Date                                                                   \n",
       "1998-12-22  24.812500  25.06250  24.812500  25.03125  17.791874    5700\n",
       "1998-12-23  25.187500  25.59375  25.187500  25.59375  18.191702   18100\n",
       "1998-12-24  25.625000  25.75000  25.515625  25.75000  18.302746    4900\n",
       "1998-12-28  25.671875  25.75000  25.375000  25.37500  18.036209   15500\n",
       "1998-12-29  25.375000  25.93750  25.375000  25.93750  18.436020    5300"
      ]
     },
     "execution_count": 63,
     "metadata": {},
     "output_type": "execute_result"
    }
   ],
   "source": [
    "XLV_data = yf.download(\n",
    "        tickers = \"XLV\",\n",
    "        period = \"max\",\n",
    "        interval = \"1d\",\n",
    "    )\n",
    "\n",
    "XLV_data.head()"
   ]
  },
  {
   "cell_type": "code",
   "execution_count": 64,
   "metadata": {
    "pycharm": {
     "name": "#%%\n"
    }
   },
   "outputs": [
    {
     "name": "stdout",
     "output_type": "stream",
     "text": [
      "[*********************100%***********************]  1 of 1 completed\n"
     ]
    },
    {
     "data": {
      "text/html": [
       "<div>\n",
       "<style scoped>\n",
       "    .dataframe tbody tr th:only-of-type {\n",
       "        vertical-align: middle;\n",
       "    }\n",
       "\n",
       "    .dataframe tbody tr th {\n",
       "        vertical-align: top;\n",
       "    }\n",
       "\n",
       "    .dataframe thead th {\n",
       "        text-align: right;\n",
       "    }\n",
       "</style>\n",
       "<table border=\"1\" class=\"dataframe\">\n",
       "  <thead>\n",
       "    <tr style=\"text-align: right;\">\n",
       "      <th></th>\n",
       "      <th>Open</th>\n",
       "      <th>High</th>\n",
       "      <th>Low</th>\n",
       "      <th>Close</th>\n",
       "      <th>Adj Close</th>\n",
       "      <th>Volume</th>\n",
       "    </tr>\n",
       "    <tr>\n",
       "      <th>Date</th>\n",
       "      <th></th>\n",
       "      <th></th>\n",
       "      <th></th>\n",
       "      <th></th>\n",
       "      <th></th>\n",
       "      <th></th>\n",
       "    </tr>\n",
       "  </thead>\n",
       "  <tbody>\n",
       "    <tr>\n",
       "      <th>1998-12-22</th>\n",
       "      <td>23.203125</td>\n",
       "      <td>23.281250</td>\n",
       "      <td>23.203125</td>\n",
       "      <td>23.28125</td>\n",
       "      <td>15.226746</td>\n",
       "      <td>600</td>\n",
       "    </tr>\n",
       "    <tr>\n",
       "      <th>1998-12-23</th>\n",
       "      <td>23.453125</td>\n",
       "      <td>23.750000</td>\n",
       "      <td>23.453125</td>\n",
       "      <td>23.68750</td>\n",
       "      <td>15.492444</td>\n",
       "      <td>900</td>\n",
       "    </tr>\n",
       "    <tr>\n",
       "      <th>1998-12-24</th>\n",
       "      <td>23.906250</td>\n",
       "      <td>24.015625</td>\n",
       "      <td>23.828125</td>\n",
       "      <td>24.00000</td>\n",
       "      <td>15.696833</td>\n",
       "      <td>1400</td>\n",
       "    </tr>\n",
       "    <tr>\n",
       "      <th>1998-12-28</th>\n",
       "      <td>24.000000</td>\n",
       "      <td>24.140625</td>\n",
       "      <td>24.000000</td>\n",
       "      <td>24.12500</td>\n",
       "      <td>15.778589</td>\n",
       "      <td>7400</td>\n",
       "    </tr>\n",
       "    <tr>\n",
       "      <th>1998-12-29</th>\n",
       "      <td>24.250000</td>\n",
       "      <td>24.468750</td>\n",
       "      <td>24.250000</td>\n",
       "      <td>24.46875</td>\n",
       "      <td>16.003410</td>\n",
       "      <td>1400</td>\n",
       "    </tr>\n",
       "  </tbody>\n",
       "</table>\n",
       "</div>"
      ],
      "text/plain": [
       "                 Open       High        Low     Close  Adj Close  Volume\n",
       "Date                                                                    \n",
       "1998-12-22  23.203125  23.281250  23.203125  23.28125  15.226746     600\n",
       "1998-12-23  23.453125  23.750000  23.453125  23.68750  15.492444     900\n",
       "1998-12-24  23.906250  24.015625  23.828125  24.00000  15.696833    1400\n",
       "1998-12-28  24.000000  24.140625  24.000000  24.12500  15.778589    7400\n",
       "1998-12-29  24.250000  24.468750  24.250000  24.46875  16.003410    1400"
      ]
     },
     "execution_count": 64,
     "metadata": {},
     "output_type": "execute_result"
    }
   ],
   "source": [
    "XLI_data = yf.download(\n",
    "        tickers = \"XLI\",\n",
    "        period = \"max\",\n",
    "        interval = \"1d\",\n",
    "    )\n",
    "\n",
    "XLI_data.head()"
   ]
  },
  {
   "cell_type": "code",
   "execution_count": 65,
   "metadata": {
    "pycharm": {
     "name": "#%%\n"
    }
   },
   "outputs": [
    {
     "name": "stdout",
     "output_type": "stream",
     "text": [
      "[*********************100%***********************]  1 of 1 completed\n"
     ]
    },
    {
     "data": {
      "text/html": [
       "<div>\n",
       "<style scoped>\n",
       "    .dataframe tbody tr th:only-of-type {\n",
       "        vertical-align: middle;\n",
       "    }\n",
       "\n",
       "    .dataframe tbody tr th {\n",
       "        vertical-align: top;\n",
       "    }\n",
       "\n",
       "    .dataframe thead th {\n",
       "        text-align: right;\n",
       "    }\n",
       "</style>\n",
       "<table border=\"1\" class=\"dataframe\">\n",
       "  <thead>\n",
       "    <tr style=\"text-align: right;\">\n",
       "      <th></th>\n",
       "      <th>Open</th>\n",
       "      <th>High</th>\n",
       "      <th>Low</th>\n",
       "      <th>Close</th>\n",
       "      <th>Adj Close</th>\n",
       "      <th>Volume</th>\n",
       "    </tr>\n",
       "    <tr>\n",
       "      <th>Date</th>\n",
       "      <th></th>\n",
       "      <th></th>\n",
       "      <th></th>\n",
       "      <th></th>\n",
       "      <th></th>\n",
       "      <th></th>\n",
       "    </tr>\n",
       "  </thead>\n",
       "  <tbody>\n",
       "    <tr>\n",
       "      <th>1998-12-22</th>\n",
       "      <td>20.781250</td>\n",
       "      <td>20.828125</td>\n",
       "      <td>20.750000</td>\n",
       "      <td>20.828125</td>\n",
       "      <td>12.260541</td>\n",
       "      <td>1900</td>\n",
       "    </tr>\n",
       "    <tr>\n",
       "      <th>1998-12-23</th>\n",
       "      <td>20.968750</td>\n",
       "      <td>21.140625</td>\n",
       "      <td>20.968750</td>\n",
       "      <td>21.046875</td>\n",
       "      <td>12.389310</td>\n",
       "      <td>700</td>\n",
       "    </tr>\n",
       "    <tr>\n",
       "      <th>1998-12-24</th>\n",
       "      <td>21.296875</td>\n",
       "      <td>21.531250</td>\n",
       "      <td>21.203125</td>\n",
       "      <td>21.531250</td>\n",
       "      <td>12.674430</td>\n",
       "      <td>1500</td>\n",
       "    </tr>\n",
       "    <tr>\n",
       "      <th>1998-12-28</th>\n",
       "      <td>21.500000</td>\n",
       "      <td>21.500000</td>\n",
       "      <td>21.312500</td>\n",
       "      <td>21.343750</td>\n",
       "      <td>12.564063</td>\n",
       "      <td>2500</td>\n",
       "    </tr>\n",
       "    <tr>\n",
       "      <th>1998-12-29</th>\n",
       "      <td>21.734375</td>\n",
       "      <td>21.734375</td>\n",
       "      <td>21.734375</td>\n",
       "      <td>21.734375</td>\n",
       "      <td>12.794009</td>\n",
       "      <td>100</td>\n",
       "    </tr>\n",
       "  </tbody>\n",
       "</table>\n",
       "</div>"
      ],
      "text/plain": [
       "                 Open       High        Low      Close  Adj Close  Volume\n",
       "Date                                                                     \n",
       "1998-12-22  20.781250  20.828125  20.750000  20.828125  12.260541    1900\n",
       "1998-12-23  20.968750  21.140625  20.968750  21.046875  12.389310     700\n",
       "1998-12-24  21.296875  21.531250  21.203125  21.531250  12.674430    1500\n",
       "1998-12-28  21.500000  21.500000  21.312500  21.343750  12.564063    2500\n",
       "1998-12-29  21.734375  21.734375  21.734375  21.734375  12.794009     100"
      ]
     },
     "execution_count": 65,
     "metadata": {},
     "output_type": "execute_result"
    }
   ],
   "source": [
    "XLB_data = yf.download(\n",
    "        tickers = \"XLB\",\n",
    "        period = \"max\",\n",
    "        interval = \"1d\",\n",
    "    )\n",
    "\n",
    "XLB_data.head()"
   ]
  },
  {
   "cell_type": "code",
   "execution_count": 66,
   "metadata": {
    "pycharm": {
     "name": "#%%\n"
    }
   },
   "outputs": [
    {
     "name": "stdout",
     "output_type": "stream",
     "text": [
      "[*********************100%***********************]  1 of 1 completed\n"
     ]
    },
    {
     "data": {
      "text/html": [
       "<div>\n",
       "<style scoped>\n",
       "    .dataframe tbody tr th:only-of-type {\n",
       "        vertical-align: middle;\n",
       "    }\n",
       "\n",
       "    .dataframe tbody tr th {\n",
       "        vertical-align: top;\n",
       "    }\n",
       "\n",
       "    .dataframe thead th {\n",
       "        text-align: right;\n",
       "    }\n",
       "</style>\n",
       "<table border=\"1\" class=\"dataframe\">\n",
       "  <thead>\n",
       "    <tr style=\"text-align: right;\">\n",
       "      <th></th>\n",
       "      <th>Open</th>\n",
       "      <th>High</th>\n",
       "      <th>Low</th>\n",
       "      <th>Close</th>\n",
       "      <th>Adj Close</th>\n",
       "      <th>Volume</th>\n",
       "    </tr>\n",
       "    <tr>\n",
       "      <th>Date</th>\n",
       "      <th></th>\n",
       "      <th></th>\n",
       "      <th></th>\n",
       "      <th></th>\n",
       "      <th></th>\n",
       "      <th></th>\n",
       "    </tr>\n",
       "  </thead>\n",
       "  <tbody>\n",
       "    <tr>\n",
       "      <th>2015-10-08</th>\n",
       "      <td>30.010000</td>\n",
       "      <td>30.209999</td>\n",
       "      <td>30.010000</td>\n",
       "      <td>30.209999</td>\n",
       "      <td>23.765333</td>\n",
       "      <td>2000</td>\n",
       "    </tr>\n",
       "    <tr>\n",
       "      <th>2015-10-09</th>\n",
       "      <td>30.200001</td>\n",
       "      <td>30.200001</td>\n",
       "      <td>30.059999</td>\n",
       "      <td>30.160000</td>\n",
       "      <td>23.726000</td>\n",
       "      <td>4300</td>\n",
       "    </tr>\n",
       "    <tr>\n",
       "      <th>2015-10-12</th>\n",
       "      <td>30.420000</td>\n",
       "      <td>30.420000</td>\n",
       "      <td>30.270000</td>\n",
       "      <td>30.350000</td>\n",
       "      <td>23.875467</td>\n",
       "      <td>2300</td>\n",
       "    </tr>\n",
       "    <tr>\n",
       "      <th>2015-10-13</th>\n",
       "      <td>30.160000</td>\n",
       "      <td>30.160000</td>\n",
       "      <td>30.160000</td>\n",
       "      <td>30.160000</td>\n",
       "      <td>23.726000</td>\n",
       "      <td>500</td>\n",
       "    </tr>\n",
       "    <tr>\n",
       "      <th>2015-10-14</th>\n",
       "      <td>30.160000</td>\n",
       "      <td>30.160000</td>\n",
       "      <td>30.160000</td>\n",
       "      <td>30.160000</td>\n",
       "      <td>23.726000</td>\n",
       "      <td>0</td>\n",
       "    </tr>\n",
       "  </tbody>\n",
       "</table>\n",
       "</div>"
      ],
      "text/plain": [
       "                 Open       High        Low      Close  Adj Close  Volume\n",
       "Date                                                                     \n",
       "2015-10-08  30.010000  30.209999  30.010000  30.209999  23.765333    2000\n",
       "2015-10-09  30.200001  30.200001  30.059999  30.160000  23.726000    4300\n",
       "2015-10-12  30.420000  30.420000  30.270000  30.350000  23.875467    2300\n",
       "2015-10-13  30.160000  30.160000  30.160000  30.160000  23.726000     500\n",
       "2015-10-14  30.160000  30.160000  30.160000  30.160000  23.726000       0"
      ]
     },
     "execution_count": 66,
     "metadata": {},
     "output_type": "execute_result"
    }
   ],
   "source": [
    "XLRE_data = yf.download(\n",
    "        tickers = \"XLRE\",\n",
    "        period = \"max\",\n",
    "        interval = \"1d\",\n",
    "    )\n",
    "\n",
    "XLRE_data.head()"
   ]
  },
  {
   "cell_type": "code",
   "execution_count": 67,
   "metadata": {
    "pycharm": {
     "name": "#%%\n"
    }
   },
   "outputs": [
    {
     "name": "stdout",
     "output_type": "stream",
     "text": [
      "[*********************100%***********************]  1 of 1 completed\n"
     ]
    },
    {
     "data": {
      "text/html": [
       "<div>\n",
       "<style scoped>\n",
       "    .dataframe tbody tr th:only-of-type {\n",
       "        vertical-align: middle;\n",
       "    }\n",
       "\n",
       "    .dataframe tbody tr th {\n",
       "        vertical-align: top;\n",
       "    }\n",
       "\n",
       "    .dataframe thead th {\n",
       "        text-align: right;\n",
       "    }\n",
       "</style>\n",
       "<table border=\"1\" class=\"dataframe\">\n",
       "  <thead>\n",
       "    <tr style=\"text-align: right;\">\n",
       "      <th></th>\n",
       "      <th>Open</th>\n",
       "      <th>High</th>\n",
       "      <th>Low</th>\n",
       "      <th>Close</th>\n",
       "      <th>Adj Close</th>\n",
       "      <th>Volume</th>\n",
       "    </tr>\n",
       "    <tr>\n",
       "      <th>Date</th>\n",
       "      <th></th>\n",
       "      <th></th>\n",
       "      <th></th>\n",
       "      <th></th>\n",
       "      <th></th>\n",
       "      <th></th>\n",
       "    </tr>\n",
       "  </thead>\n",
       "  <tbody>\n",
       "    <tr>\n",
       "      <th>1998-12-22</th>\n",
       "      <td>32.40625</td>\n",
       "      <td>32.500000</td>\n",
       "      <td>31.78125</td>\n",
       "      <td>32.046875</td>\n",
       "      <td>24.469606</td>\n",
       "      <td>300500</td>\n",
       "    </tr>\n",
       "    <tr>\n",
       "      <th>1998-12-23</th>\n",
       "      <td>32.75000</td>\n",
       "      <td>32.812500</td>\n",
       "      <td>32.15625</td>\n",
       "      <td>32.812500</td>\n",
       "      <td>25.054201</td>\n",
       "      <td>338300</td>\n",
       "    </tr>\n",
       "    <tr>\n",
       "      <th>1998-12-24</th>\n",
       "      <td>32.81250</td>\n",
       "      <td>32.812500</td>\n",
       "      <td>32.56250</td>\n",
       "      <td>32.687500</td>\n",
       "      <td>24.958761</td>\n",
       "      <td>243700</td>\n",
       "    </tr>\n",
       "    <tr>\n",
       "      <th>1998-12-28</th>\n",
       "      <td>33.18750</td>\n",
       "      <td>33.187500</td>\n",
       "      <td>32.59375</td>\n",
       "      <td>32.781250</td>\n",
       "      <td>25.030340</td>\n",
       "      <td>309300</td>\n",
       "    </tr>\n",
       "    <tr>\n",
       "      <th>1998-12-29</th>\n",
       "      <td>32.93750</td>\n",
       "      <td>33.015625</td>\n",
       "      <td>32.50000</td>\n",
       "      <td>32.875000</td>\n",
       "      <td>25.101923</td>\n",
       "      <td>123800</td>\n",
       "    </tr>\n",
       "  </tbody>\n",
       "</table>\n",
       "</div>"
      ],
      "text/plain": [
       "                Open       High       Low      Close  Adj Close  Volume\n",
       "Date                                                                   \n",
       "1998-12-22  32.40625  32.500000  31.78125  32.046875  24.469606  300500\n",
       "1998-12-23  32.75000  32.812500  32.15625  32.812500  25.054201  338300\n",
       "1998-12-24  32.81250  32.812500  32.56250  32.687500  24.958761  243700\n",
       "1998-12-28  33.18750  33.187500  32.59375  32.781250  25.030340  309300\n",
       "1998-12-29  32.93750  33.015625  32.50000  32.875000  25.101923  123800"
      ]
     },
     "execution_count": 67,
     "metadata": {},
     "output_type": "execute_result"
    }
   ],
   "source": [
    "XLK_data = yf.download(\n",
    "        tickers = \"XLK\",\n",
    "        period = \"max\",\n",
    "        interval = \"1d\",\n",
    "    )\n",
    "\n",
    "XLK_data.head()"
   ]
  },
  {
   "cell_type": "code",
   "execution_count": 68,
   "metadata": {
    "pycharm": {
     "name": "#%%\n"
    }
   },
   "outputs": [
    {
     "name": "stdout",
     "output_type": "stream",
     "text": [
      "[*********************100%***********************]  1 of 1 completed\n"
     ]
    },
    {
     "data": {
      "text/html": [
       "<div>\n",
       "<style scoped>\n",
       "    .dataframe tbody tr th:only-of-type {\n",
       "        vertical-align: middle;\n",
       "    }\n",
       "\n",
       "    .dataframe tbody tr th {\n",
       "        vertical-align: top;\n",
       "    }\n",
       "\n",
       "    .dataframe thead th {\n",
       "        text-align: right;\n",
       "    }\n",
       "</style>\n",
       "<table border=\"1\" class=\"dataframe\">\n",
       "  <thead>\n",
       "    <tr style=\"text-align: right;\">\n",
       "      <th></th>\n",
       "      <th>Open</th>\n",
       "      <th>High</th>\n",
       "      <th>Low</th>\n",
       "      <th>Close</th>\n",
       "      <th>Adj Close</th>\n",
       "      <th>Volume</th>\n",
       "    </tr>\n",
       "    <tr>\n",
       "      <th>Date</th>\n",
       "      <th></th>\n",
       "      <th></th>\n",
       "      <th></th>\n",
       "      <th></th>\n",
       "      <th></th>\n",
       "      <th></th>\n",
       "    </tr>\n",
       "  </thead>\n",
       "  <tbody>\n",
       "    <tr>\n",
       "      <th>1998-12-22</th>\n",
       "      <td>30.250000</td>\n",
       "      <td>30.250000</td>\n",
       "      <td>29.828125</td>\n",
       "      <td>29.828125</td>\n",
       "      <td>12.986412</td>\n",
       "      <td>7900</td>\n",
       "    </tr>\n",
       "    <tr>\n",
       "      <th>1998-12-23</th>\n",
       "      <td>29.796875</td>\n",
       "      <td>29.796875</td>\n",
       "      <td>29.640625</td>\n",
       "      <td>29.703125</td>\n",
       "      <td>12.931996</td>\n",
       "      <td>24100</td>\n",
       "    </tr>\n",
       "    <tr>\n",
       "      <th>1998-12-24</th>\n",
       "      <td>30.218750</td>\n",
       "      <td>30.312500</td>\n",
       "      <td>30.156250</td>\n",
       "      <td>30.250000</td>\n",
       "      <td>13.170093</td>\n",
       "      <td>23800</td>\n",
       "    </tr>\n",
       "    <tr>\n",
       "      <th>1998-12-28</th>\n",
       "      <td>30.187500</td>\n",
       "      <td>30.250000</td>\n",
       "      <td>30.046875</td>\n",
       "      <td>30.093750</td>\n",
       "      <td>13.102063</td>\n",
       "      <td>3100</td>\n",
       "    </tr>\n",
       "    <tr>\n",
       "      <th>1998-12-29</th>\n",
       "      <td>30.218750</td>\n",
       "      <td>30.671875</td>\n",
       "      <td>30.218750</td>\n",
       "      <td>30.593750</td>\n",
       "      <td>13.319750</td>\n",
       "      <td>12000</td>\n",
       "    </tr>\n",
       "  </tbody>\n",
       "</table>\n",
       "</div>"
      ],
      "text/plain": [
       "                 Open       High        Low      Close  Adj Close  Volume\n",
       "Date                                                                     \n",
       "1998-12-22  30.250000  30.250000  29.828125  29.828125  12.986412    7900\n",
       "1998-12-23  29.796875  29.796875  29.640625  29.703125  12.931996   24100\n",
       "1998-12-24  30.218750  30.312500  30.156250  30.250000  13.170093   23800\n",
       "1998-12-28  30.187500  30.250000  30.046875  30.093750  13.102063    3100\n",
       "1998-12-29  30.218750  30.671875  30.218750  30.593750  13.319750   12000"
      ]
     },
     "execution_count": 68,
     "metadata": {},
     "output_type": "execute_result"
    }
   ],
   "source": [
    "XLU_data = yf.download(\n",
    "        tickers = \"XLU\",\n",
    "        period = \"max\",\n",
    "        interval = \"1d\",\n",
    "    )\n",
    "\n",
    "XLU_data.head()"
   ]
  },
  {
   "cell_type": "code",
   "execution_count": 69,
   "metadata": {
    "pycharm": {
     "name": "#%%\n"
    }
   },
   "outputs": [],
   "source": [
    "# save downloaded data\n",
    "XLC_data.to_csv('data/XLC.csv')\n",
    "XLY_data.to_csv('data/XLY.csv')\n",
    "XLP_data.to_csv('data/XLP.csv')\n",
    "XLE_data.to_csv('data/XLE.csv')\n",
    "XLF_data.to_csv('data/XLF.csv')\n",
    "XLV_data.to_csv('data/XLV.csv')\n",
    "XLI_data.to_csv('data/XLI.csv')\n",
    "XLB_data.to_csv('data/XLB.csv')\n",
    "XLRE_data.to_csv('data/XLRE.csv')\n",
    "XLK_data.to_csv('data/XLK.csv')\n",
    "XLU_data.to_csv('data/XLU.csv')"
   ]
  },
  {
   "cell_type": "markdown",
   "metadata": {
    "pycharm": {
     "name": "#%% md\n"
    }
   },
   "source": [
    "# LSTM"
   ]
  },
  {
   "cell_type": "code",
   "execution_count": 70,
   "metadata": {
    "pycharm": {
     "name": "#%%\n"
    }
   },
   "outputs": [
    {
     "data": {
      "text/html": [
       "<div>\n",
       "<style scoped>\n",
       "    .dataframe tbody tr th:only-of-type {\n",
       "        vertical-align: middle;\n",
       "    }\n",
       "\n",
       "    .dataframe tbody tr th {\n",
       "        vertical-align: top;\n",
       "    }\n",
       "\n",
       "    .dataframe thead th {\n",
       "        text-align: right;\n",
       "    }\n",
       "</style>\n",
       "<table border=\"1\" class=\"dataframe\">\n",
       "  <thead>\n",
       "    <tr style=\"text-align: right;\">\n",
       "      <th></th>\n",
       "      <th>Open</th>\n",
       "      <th>High</th>\n",
       "      <th>Low</th>\n",
       "      <th>Close</th>\n",
       "      <th>Volume</th>\n",
       "      <th>Return</th>\n",
       "    </tr>\n",
       "    <tr>\n",
       "      <th>Date</th>\n",
       "      <th></th>\n",
       "      <th></th>\n",
       "      <th></th>\n",
       "      <th></th>\n",
       "      <th></th>\n",
       "      <th></th>\n",
       "    </tr>\n",
       "  </thead>\n",
       "  <tbody>\n",
       "    <tr>\n",
       "      <th>1998-12-22</th>\n",
       "      <td>32.40625</td>\n",
       "      <td>32.500000</td>\n",
       "      <td>31.78125</td>\n",
       "      <td>32.046875</td>\n",
       "      <td>300500</td>\n",
       "      <td>NaN</td>\n",
       "    </tr>\n",
       "    <tr>\n",
       "      <th>1998-12-23</th>\n",
       "      <td>32.75000</td>\n",
       "      <td>32.812500</td>\n",
       "      <td>32.15625</td>\n",
       "      <td>32.812500</td>\n",
       "      <td>338300</td>\n",
       "      <td>0.023891</td>\n",
       "    </tr>\n",
       "    <tr>\n",
       "      <th>1998-12-24</th>\n",
       "      <td>32.81250</td>\n",
       "      <td>32.812500</td>\n",
       "      <td>32.56250</td>\n",
       "      <td>32.687500</td>\n",
       "      <td>243700</td>\n",
       "      <td>-0.003810</td>\n",
       "    </tr>\n",
       "    <tr>\n",
       "      <th>1998-12-28</th>\n",
       "      <td>33.18750</td>\n",
       "      <td>33.187500</td>\n",
       "      <td>32.59375</td>\n",
       "      <td>32.781250</td>\n",
       "      <td>309300</td>\n",
       "      <td>0.002868</td>\n",
       "    </tr>\n",
       "    <tr>\n",
       "      <th>1998-12-29</th>\n",
       "      <td>32.93750</td>\n",
       "      <td>33.015625</td>\n",
       "      <td>32.50000</td>\n",
       "      <td>32.875000</td>\n",
       "      <td>123800</td>\n",
       "      <td>0.002860</td>\n",
       "    </tr>\n",
       "  </tbody>\n",
       "</table>\n",
       "</div>"
      ],
      "text/plain": [
       "                Open       High       Low      Close  Volume    Return\n",
       "Date                                                                  \n",
       "1998-12-22  32.40625  32.500000  31.78125  32.046875  300500       NaN\n",
       "1998-12-23  32.75000  32.812500  32.15625  32.812500  338300  0.023891\n",
       "1998-12-24  32.81250  32.812500  32.56250  32.687500  243700 -0.003810\n",
       "1998-12-28  33.18750  33.187500  32.59375  32.781250  309300  0.002868\n",
       "1998-12-29  32.93750  33.015625  32.50000  32.875000  123800  0.002860"
      ]
     },
     "execution_count": 70,
     "metadata": {},
     "output_type": "execute_result"
    }
   ],
   "source": [
    "import numpy as np\n",
    "import pandas as pd\n",
    "\n",
    "\n",
    "XLK_data = pd.read_csv('data/XLK.csv', index_col=0)\n",
    "XLK_data['Return'] = (XLK_data['Close'] / XLK_data['Close'].shift(1)) - 1\n",
    "XLK_data = XLK_data.drop('Adj Close', axis=1)\n",
    "XLK_data.head()"
   ]
  },
  {
   "cell_type": "code",
   "execution_count": 71,
   "metadata": {
    "pycharm": {
     "name": "#%%\n"
    }
   },
   "outputs": [],
   "source": [
    "# convert time series data into cross-sectional data\n",
    "def ts_split(ts, feature_steps=10, target_steps=1):\n",
    "    n_obs = len(ts) - feature_steps - target_steps + 1\n",
    "    X = np.array([ts[idx:idx + feature_steps] for idx in range(n_obs)])\n",
    "    y = np.array([ts[idx + feature_steps:idx + feature_steps + target_steps]\n",
    "                  for idx in range(n_obs)])\n",
    "    return X, y"
   ]
  },
  {
   "cell_type": "code",
   "execution_count": 72,
   "metadata": {
    "pycharm": {
     "name": "#%%\n"
    }
   },
   "outputs": [],
   "source": [
    "# preprocessing data\n",
    "train_start_date = '2013-01-01'\n",
    "train_end_date = '2019-12-31'\n",
    "valid_start_date = '2020-01-01'\n",
    "valid_end_date = '2021-12-31'\n",
    "test_start_date = '2022-01-01'\n",
    "test_end_date = '2022-12-02'\n",
    "# use past 20 days data to predict 5 day ahead\n",
    "window = 20\n",
    "ahead = 5\n",
    "\n",
    "train = XLK_data[train_start_date:train_end_date]\n",
    "valid = XLK_data[valid_start_date:valid_end_date]\n",
    "test = XLK_data[test_start_date:test_end_date]\n",
    "\n",
    "_, y_train = ts_split(train['Return'], feature_steps=window, target_steps=ahead)\n",
    "_, y_valid = ts_split(valid['Return'], feature_steps=window, target_steps=ahead)\n",
    "_, y_test = ts_split(test['Return'], feature_steps=window, target_steps=ahead)\n",
    "\n",
    "X_train, _ = ts_split(train['Open'], feature_steps=window, target_steps=ahead)\n",
    "X_valid, _ = ts_split(valid['Open'], feature_steps=window, target_steps=ahead)\n",
    "X_test, _ = ts_split(test['Open'], feature_steps=window, target_steps=ahead)\n",
    "\n",
    "X_train = np.atleast_3d(X_train)\n",
    "X_valid = np.atleast_3d(X_valid)\n",
    "X_test = np.atleast_3d(X_test)\n",
    "\n",
    "for x in ['High', 'Low', 'Close', 'Volume']:\n",
    "    X1, _ = ts_split(train[x], feature_steps=window, target_steps=ahead)\n",
    "    X2, _ = ts_split(valid[x], feature_steps=window, target_steps=ahead)\n",
    "    X3, _ = ts_split(test[x], feature_steps=window, target_steps=ahead)\n",
    "\n",
    "    X_train = np.append(X_train , np.atleast_3d(X1), axis=2)\n",
    "    X_valid = np.append(X_valid, np.atleast_3d(X2), axis=2)\n",
    "    X_test = np.append(X_test, np.atleast_3d(X3), axis=2)"
   ]
  },
  {
   "cell_type": "code",
   "execution_count": 73,
   "metadata": {
    "pycharm": {
     "name": "#%%\n"
    }
   },
   "outputs": [
    {
     "data": {
      "text/plain": [
       "(1738, 20, 5)"
      ]
     },
     "execution_count": 73,
     "metadata": {},
     "output_type": "execute_result"
    }
   ],
   "source": [
    "X_train.shape"
   ]
  },
  {
   "cell_type": "code",
   "execution_count": 74,
   "metadata": {
    "pycharm": {
     "name": "#%%\n"
    }
   },
   "outputs": [
    {
     "data": {
      "text/plain": [
       "(1738, 5)"
      ]
     },
     "execution_count": 74,
     "metadata": {},
     "output_type": "execute_result"
    }
   ],
   "source": [
    "y_train.shape"
   ]
  },
  {
   "cell_type": "code",
   "execution_count": 75,
   "metadata": {
    "pycharm": {
     "name": "#%%\n"
    }
   },
   "outputs": [],
   "source": [
    "import tensorflow as tf\n",
    "import tensorflow.keras as keras\n",
    "import random as python_random\n",
    "\n",
    "# define helper function to set the random seed and reset the TensorFlow backend of Keras.\n",
    "def reset_session(seed=42):\n",
    "    tf.random.set_seed(seed)\n",
    "    python_random.seed(seed)\n",
    "    np.random.seed(seed)\n",
    "    tf.keras.backend.clear_session()"
   ]
  },
  {
   "cell_type": "code",
   "execution_count": 78,
   "metadata": {
    "pycharm": {
     "name": "#%%\n"
    }
   },
   "outputs": [
    {
     "name": "stdout",
     "output_type": "stream",
     "text": [
      "CPU times: total: 15.3 s\n",
      "Wall time: 8.2 s\n"
     ]
    },
    {
     "data": {
      "text/html": [
       "<div>\n",
       "<style scoped>\n",
       "    .dataframe tbody tr th:only-of-type {\n",
       "        vertical-align: middle;\n",
       "    }\n",
       "\n",
       "    .dataframe tbody tr th {\n",
       "        vertical-align: top;\n",
       "    }\n",
       "\n",
       "    .dataframe thead th {\n",
       "        text-align: right;\n",
       "    }\n",
       "</style>\n",
       "<table border=\"1\" class=\"dataframe\">\n",
       "  <thead>\n",
       "    <tr style=\"text-align: right;\">\n",
       "      <th></th>\n",
       "      <th>loss</th>\n",
       "      <th>val_loss</th>\n",
       "    </tr>\n",
       "  </thead>\n",
       "  <tbody>\n",
       "    <tr>\n",
       "      <th>0</th>\n",
       "      <td>0.004316</td>\n",
       "      <td>0.000408</td>\n",
       "    </tr>\n",
       "    <tr>\n",
       "      <th>1</th>\n",
       "      <td>0.000105</td>\n",
       "      <td>0.000407</td>\n",
       "    </tr>\n",
       "    <tr>\n",
       "      <th>2</th>\n",
       "      <td>0.000105</td>\n",
       "      <td>0.000413</td>\n",
       "    </tr>\n",
       "    <tr>\n",
       "      <th>3</th>\n",
       "      <td>0.000106</td>\n",
       "      <td>0.000408</td>\n",
       "    </tr>\n",
       "    <tr>\n",
       "      <th>4</th>\n",
       "      <td>0.000106</td>\n",
       "      <td>0.000426</td>\n",
       "    </tr>\n",
       "    <tr>\n",
       "      <th>5</th>\n",
       "      <td>0.000106</td>\n",
       "      <td>0.000414</td>\n",
       "    </tr>\n",
       "    <tr>\n",
       "      <th>6</th>\n",
       "      <td>0.000106</td>\n",
       "      <td>0.000415</td>\n",
       "    </tr>\n",
       "    <tr>\n",
       "      <th>7</th>\n",
       "      <td>0.000106</td>\n",
       "      <td>0.000418</td>\n",
       "    </tr>\n",
       "    <tr>\n",
       "      <th>8</th>\n",
       "      <td>0.000107</td>\n",
       "      <td>0.000421</td>\n",
       "    </tr>\n",
       "    <tr>\n",
       "      <th>9</th>\n",
       "      <td>0.000107</td>\n",
       "      <td>0.000425</td>\n",
       "    </tr>\n",
       "    <tr>\n",
       "      <th>10</th>\n",
       "      <td>0.000107</td>\n",
       "      <td>0.000414</td>\n",
       "    </tr>\n",
       "  </tbody>\n",
       "</table>\n",
       "</div>"
      ],
      "text/plain": [
       "        loss  val_loss\n",
       "0   0.004316  0.000408\n",
       "1   0.000105  0.000407\n",
       "2   0.000105  0.000413\n",
       "3   0.000106  0.000408\n",
       "4   0.000106  0.000426\n",
       "5   0.000106  0.000414\n",
       "6   0.000106  0.000415\n",
       "7   0.000106  0.000418\n",
       "8   0.000107  0.000421\n",
       "9   0.000107  0.000425\n",
       "10  0.000107  0.000414"
      ]
     },
     "execution_count": 78,
     "metadata": {},
     "output_type": "execute_result"
    }
   ],
   "source": [
    "%%time\n",
    "reset_session()\n",
    "\n",
    "model = keras.models.Sequential([\n",
    "    keras.layers.LSTM(20, return_sequences=True, input_shape=[X_train.shape[1], X_train.shape[2]]),\n",
    "    keras.layers.LSTM(20),\n",
    "    keras.layers.Dense(5)\n",
    "])\n",
    "\n",
    "model.compile(loss=\"mse\", optimizer=\"nadam\")\n",
    "early_stopping_cb = keras.callbacks.EarlyStopping(patience=10,\n",
    "                                                  min_delta=0.01,\n",
    "                                                  restore_best_weights=True)\n",
    "run = model.fit(X_train, y_train, epochs=200,\n",
    "                validation_data=(X_valid, y_valid),\n",
    "                callbacks=[early_stopping_cb], verbose=0)\n",
    "pd.DataFrame(run.history).iloc[-11:]"
   ]
  },
  {
   "cell_type": "code",
   "execution_count": null,
   "metadata": {
    "pycharm": {
     "name": "#%%\n"
    }
   },
   "outputs": [],
   "source": []
  }
 ],
 "metadata": {
  "kernelspec": {
   "display_name": "Python 3 (ipykernel)",
   "language": "python",
   "name": "python3"
  },
  "language_info": {
   "codemirror_mode": {
    "name": "ipython",
    "version": 3
   },
   "file_extension": ".py",
   "mimetype": "text/x-python",
   "name": "python",
   "nbconvert_exporter": "python",
   "pygments_lexer": "ipython3",
   "version": "3.8.8"
  },
  "latex_envs": {
   "LaTeX_envs_menu_present": true,
   "autoclose": false,
   "autocomplete": true,
   "bibliofile": "biblio.bib",
   "cite_by": "apalike",
   "current_citInitial": 1,
   "eqLabelWithNumbers": true,
   "eqNumInitial": 1,
   "hotkeys": {
    "equation": "Ctrl-E",
    "itemize": "Ctrl-I"
   },
   "labels_anchors": false,
   "latex_user_defs": false,
   "report_style_numbering": false,
   "user_envs_cfg": false
  },
  "toc": {
   "base_numbering": 1,
   "nav_menu": {},
   "number_sections": true,
   "sideBar": true,
   "skip_h1_title": false,
   "title_cell": "Table of Contents",
   "title_sidebar": "Contents",
   "toc_cell": false,
   "toc_position": {},
   "toc_section_display": true,
   "toc_window_display": false
  },
  "varInspector": {
   "cols": {
    "lenName": 16,
    "lenType": 16,
    "lenVar": 40
   },
   "kernels_config": {
    "python": {
     "delete_cmd_postfix": "",
     "delete_cmd_prefix": "del ",
     "library": "var_list.py",
     "varRefreshCmd": "print(var_dic_list())"
    },
    "r": {
     "delete_cmd_postfix": ") ",
     "delete_cmd_prefix": "rm(",
     "library": "var_list.r",
     "varRefreshCmd": "cat(var_dic_list()) "
    }
   },
   "types_to_exclude": [
    "module",
    "function",
    "builtin_function_or_method",
    "instance",
    "_Feature"
   ],
   "window_display": false
  }
 },
 "nbformat": 4,
 "nbformat_minor": 1
}
