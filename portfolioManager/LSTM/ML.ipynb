{
 "cells": [
  {
   "cell_type": "markdown",
   "metadata": {
    "collapsed": true,
    "pycharm": {
     "name": "#%% md\n"
    }
   },
   "source": [
    "# Data Fetching"
   ]
  },
  {
   "cell_type": "code",
   "execution_count": 1,
   "outputs": [
    {
     "name": "stdout",
     "output_type": "stream",
     "text": [
      "[*********************100%***********************]  1 of 1 completed\n"
     ]
    },
    {
     "data": {
      "text/plain": "                 Open       High        Low      Close  Adj Close   Volume\nDate                                                                      \n2018-06-19  49.700001  50.060001  49.580002  49.959999  48.118778    16600\n2018-06-20  50.450001  50.889000  50.450001  50.580002  48.715927   190000\n2018-06-21  50.770000  50.849998  50.200001  50.270000  48.417355   428700\n2018-06-22  50.590000  50.610001  50.189999  50.490002  48.629253   181500\n2018-06-25  50.230000  50.230000  49.014999  49.450001  47.627575  2509600",
      "text/html": "<div>\n<style scoped>\n    .dataframe tbody tr th:only-of-type {\n        vertical-align: middle;\n    }\n\n    .dataframe tbody tr th {\n        vertical-align: top;\n    }\n\n    .dataframe thead th {\n        text-align: right;\n    }\n</style>\n<table border=\"1\" class=\"dataframe\">\n  <thead>\n    <tr style=\"text-align: right;\">\n      <th></th>\n      <th>Open</th>\n      <th>High</th>\n      <th>Low</th>\n      <th>Close</th>\n      <th>Adj Close</th>\n      <th>Volume</th>\n    </tr>\n    <tr>\n      <th>Date</th>\n      <th></th>\n      <th></th>\n      <th></th>\n      <th></th>\n      <th></th>\n      <th></th>\n    </tr>\n  </thead>\n  <tbody>\n    <tr>\n      <th>2018-06-19</th>\n      <td>49.700001</td>\n      <td>50.060001</td>\n      <td>49.580002</td>\n      <td>49.959999</td>\n      <td>48.118778</td>\n      <td>16600</td>\n    </tr>\n    <tr>\n      <th>2018-06-20</th>\n      <td>50.450001</td>\n      <td>50.889000</td>\n      <td>50.450001</td>\n      <td>50.580002</td>\n      <td>48.715927</td>\n      <td>190000</td>\n    </tr>\n    <tr>\n      <th>2018-06-21</th>\n      <td>50.770000</td>\n      <td>50.849998</td>\n      <td>50.200001</td>\n      <td>50.270000</td>\n      <td>48.417355</td>\n      <td>428700</td>\n    </tr>\n    <tr>\n      <th>2018-06-22</th>\n      <td>50.590000</td>\n      <td>50.610001</td>\n      <td>50.189999</td>\n      <td>50.490002</td>\n      <td>48.629253</td>\n      <td>181500</td>\n    </tr>\n    <tr>\n      <th>2018-06-25</th>\n      <td>50.230000</td>\n      <td>50.230000</td>\n      <td>49.014999</td>\n      <td>49.450001</td>\n      <td>47.627575</td>\n      <td>2509600</td>\n    </tr>\n  </tbody>\n</table>\n</div>"
     },
     "execution_count": 1,
     "metadata": {},
     "output_type": "execute_result"
    }
   ],
   "source": [
    "import yfinance as yf\n",
    "\n",
    "XLC_data = yf.download(\n",
    "        # tickers list or string as well\n",
    "        tickers = \"XLC\",\n",
    "\n",
    "        # use \"period\" instead of start/end\n",
    "        # valid periods: 1d,5d,1mo,3mo,6mo,1y,2y,5y,10y,ytd,max\n",
    "        # (optional, default is '1mo')\n",
    "        period = \"max\",\n",
    "\n",
    "        # fetch data by interval (including intraday if period < 60 days)\n",
    "        # valid intervals: 1m,2m,5m,15m,30m,60m,90m,1h,1d,5d,1wk,1mo,3mo\n",
    "        # (optional, default is '1d')\n",
    "        interval = \"1d\",\n",
    "\n",
    "        # adjust all OHLC automatically\n",
    "        # (optional, default is False)\n",
    "        auto_adjust = False,\n",
    "\n",
    "        # download pre/post regular market hours data\n",
    "        # (optional, default is False)\n",
    "        prepost = False,\n",
    "\n",
    "        # use threads for mass downloading? (True/False/Integer)\n",
    "        # (optional, default is True)\n",
    "        threads = True,\n",
    "\n",
    "        # proxy URL scheme use use when downloading?\n",
    "        # (optional, default is None)\n",
    "        proxy = None\n",
    "    )\n",
    "\n",
    "XLC_data.head()"
   ],
   "metadata": {
    "collapsed": false,
    "pycharm": {
     "name": "#%%\n"
    }
   }
  },
  {
   "cell_type": "code",
   "execution_count": 2,
   "outputs": [
    {
     "name": "stdout",
     "output_type": "stream",
     "text": [
      "[*********************100%***********************]  1 of 1 completed\n"
     ]
    },
    {
     "data": {
      "text/plain": "                 Open       High        Low      Close  Adj Close  Volume\nDate                                                                     \n1998-12-22  25.312500  25.468750  25.312500  25.468750  19.335169    3700\n1998-12-23  25.500000  25.750000  25.468750  25.578125  19.418201   12000\n1998-12-24  25.937500  26.046875  25.812500  26.046875  19.774065    1600\n1998-12-28  25.921875  25.937500  25.812500  25.812500  19.596127    8600\n1998-12-29  25.890625  26.375000  25.890625  26.375000  20.023163    1100",
      "text/html": "<div>\n<style scoped>\n    .dataframe tbody tr th:only-of-type {\n        vertical-align: middle;\n    }\n\n    .dataframe tbody tr th {\n        vertical-align: top;\n    }\n\n    .dataframe thead th {\n        text-align: right;\n    }\n</style>\n<table border=\"1\" class=\"dataframe\">\n  <thead>\n    <tr style=\"text-align: right;\">\n      <th></th>\n      <th>Open</th>\n      <th>High</th>\n      <th>Low</th>\n      <th>Close</th>\n      <th>Adj Close</th>\n      <th>Volume</th>\n    </tr>\n    <tr>\n      <th>Date</th>\n      <th></th>\n      <th></th>\n      <th></th>\n      <th></th>\n      <th></th>\n      <th></th>\n    </tr>\n  </thead>\n  <tbody>\n    <tr>\n      <th>1998-12-22</th>\n      <td>25.312500</td>\n      <td>25.468750</td>\n      <td>25.312500</td>\n      <td>25.468750</td>\n      <td>19.335169</td>\n      <td>3700</td>\n    </tr>\n    <tr>\n      <th>1998-12-23</th>\n      <td>25.500000</td>\n      <td>25.750000</td>\n      <td>25.468750</td>\n      <td>25.578125</td>\n      <td>19.418201</td>\n      <td>12000</td>\n    </tr>\n    <tr>\n      <th>1998-12-24</th>\n      <td>25.937500</td>\n      <td>26.046875</td>\n      <td>25.812500</td>\n      <td>26.046875</td>\n      <td>19.774065</td>\n      <td>1600</td>\n    </tr>\n    <tr>\n      <th>1998-12-28</th>\n      <td>25.921875</td>\n      <td>25.937500</td>\n      <td>25.812500</td>\n      <td>25.812500</td>\n      <td>19.596127</td>\n      <td>8600</td>\n    </tr>\n    <tr>\n      <th>1998-12-29</th>\n      <td>25.890625</td>\n      <td>26.375000</td>\n      <td>25.890625</td>\n      <td>26.375000</td>\n      <td>20.023163</td>\n      <td>1100</td>\n    </tr>\n  </tbody>\n</table>\n</div>"
     },
     "execution_count": 2,
     "metadata": {},
     "output_type": "execute_result"
    }
   ],
   "source": [
    "XLY_data = yf.download(\n",
    "        tickers = \"XLY\",\n",
    "        period = \"max\",\n",
    "        interval = \"1d\",\n",
    "    )\n",
    "\n",
    "XLY_data.head()"
   ],
   "metadata": {
    "collapsed": false,
    "pycharm": {
     "name": "#%%\n"
    }
   }
  },
  {
   "cell_type": "code",
   "execution_count": 3,
   "outputs": [
    {
     "name": "stdout",
     "output_type": "stream",
     "text": [
      "[*********************100%***********************]  1 of 1 completed\n"
     ]
    },
    {
     "data": {
      "text/plain": "                 Open       High        Low      Close  Adj Close  Volume\nDate                                                                     \n1998-12-22  25.875000  26.531250  25.875000  26.500000  15.358260  150300\n1998-12-23  26.796875  28.796875  26.687500  27.140625  15.729540   44000\n1998-12-24  27.140625  27.140625  27.000000  27.093750  15.702372   45500\n1998-12-28  27.140625  27.156250  26.812500  26.937500  15.611814   25400\n1998-12-29  26.953125  27.562500  25.984375  27.531250  15.955934  123500",
      "text/html": "<div>\n<style scoped>\n    .dataframe tbody tr th:only-of-type {\n        vertical-align: middle;\n    }\n\n    .dataframe tbody tr th {\n        vertical-align: top;\n    }\n\n    .dataframe thead th {\n        text-align: right;\n    }\n</style>\n<table border=\"1\" class=\"dataframe\">\n  <thead>\n    <tr style=\"text-align: right;\">\n      <th></th>\n      <th>Open</th>\n      <th>High</th>\n      <th>Low</th>\n      <th>Close</th>\n      <th>Adj Close</th>\n      <th>Volume</th>\n    </tr>\n    <tr>\n      <th>Date</th>\n      <th></th>\n      <th></th>\n      <th></th>\n      <th></th>\n      <th></th>\n      <th></th>\n    </tr>\n  </thead>\n  <tbody>\n    <tr>\n      <th>1998-12-22</th>\n      <td>25.875000</td>\n      <td>26.531250</td>\n      <td>25.875000</td>\n      <td>26.500000</td>\n      <td>15.358260</td>\n      <td>150300</td>\n    </tr>\n    <tr>\n      <th>1998-12-23</th>\n      <td>26.796875</td>\n      <td>28.796875</td>\n      <td>26.687500</td>\n      <td>27.140625</td>\n      <td>15.729540</td>\n      <td>44000</td>\n    </tr>\n    <tr>\n      <th>1998-12-24</th>\n      <td>27.140625</td>\n      <td>27.140625</td>\n      <td>27.000000</td>\n      <td>27.093750</td>\n      <td>15.702372</td>\n      <td>45500</td>\n    </tr>\n    <tr>\n      <th>1998-12-28</th>\n      <td>27.140625</td>\n      <td>27.156250</td>\n      <td>26.812500</td>\n      <td>26.937500</td>\n      <td>15.611814</td>\n      <td>25400</td>\n    </tr>\n    <tr>\n      <th>1998-12-29</th>\n      <td>26.953125</td>\n      <td>27.562500</td>\n      <td>25.984375</td>\n      <td>27.531250</td>\n      <td>15.955934</td>\n      <td>123500</td>\n    </tr>\n  </tbody>\n</table>\n</div>"
     },
     "execution_count": 3,
     "metadata": {},
     "output_type": "execute_result"
    }
   ],
   "source": [
    "XLP_data = yf.download(\n",
    "        tickers = \"XLP\",\n",
    "        period = \"max\",\n",
    "        interval = \"1d\",\n",
    "    )\n",
    "\n",
    "XLP_data.head()"
   ],
   "metadata": {
    "collapsed": false,
    "pycharm": {
     "name": "#%%\n"
    }
   }
  },
  {
   "cell_type": "code",
   "execution_count": 4,
   "outputs": [
    {
     "name": "stdout",
     "output_type": "stream",
     "text": [
      "[*********************100%***********************]  1 of 1 completed\n"
     ]
    },
    {
     "data": {
      "text/plain": "                Open       High       Low      Close  Adj Close  Volume\nDate                                                                   \n1998-12-22  23.31250  23.390625  23.18750  23.265625  12.914159   15200\n1998-12-23  23.34375  23.750000  23.31250  23.750000  13.183022   67800\n1998-12-24  23.81250  23.812500  23.59375  23.625000  13.113638   12300\n1998-12-28  23.75000  23.750000  23.34375  23.500000  13.044250   13500\n1998-12-29  23.56250  23.734375  23.34375  23.734375  13.174343   22000",
      "text/html": "<div>\n<style scoped>\n    .dataframe tbody tr th:only-of-type {\n        vertical-align: middle;\n    }\n\n    .dataframe tbody tr th {\n        vertical-align: top;\n    }\n\n    .dataframe thead th {\n        text-align: right;\n    }\n</style>\n<table border=\"1\" class=\"dataframe\">\n  <thead>\n    <tr style=\"text-align: right;\">\n      <th></th>\n      <th>Open</th>\n      <th>High</th>\n      <th>Low</th>\n      <th>Close</th>\n      <th>Adj Close</th>\n      <th>Volume</th>\n    </tr>\n    <tr>\n      <th>Date</th>\n      <th></th>\n      <th></th>\n      <th></th>\n      <th></th>\n      <th></th>\n      <th></th>\n    </tr>\n  </thead>\n  <tbody>\n    <tr>\n      <th>1998-12-22</th>\n      <td>23.31250</td>\n      <td>23.390625</td>\n      <td>23.18750</td>\n      <td>23.265625</td>\n      <td>12.914159</td>\n      <td>15200</td>\n    </tr>\n    <tr>\n      <th>1998-12-23</th>\n      <td>23.34375</td>\n      <td>23.750000</td>\n      <td>23.31250</td>\n      <td>23.750000</td>\n      <td>13.183022</td>\n      <td>67800</td>\n    </tr>\n    <tr>\n      <th>1998-12-24</th>\n      <td>23.81250</td>\n      <td>23.812500</td>\n      <td>23.59375</td>\n      <td>23.625000</td>\n      <td>13.113638</td>\n      <td>12300</td>\n    </tr>\n    <tr>\n      <th>1998-12-28</th>\n      <td>23.75000</td>\n      <td>23.750000</td>\n      <td>23.34375</td>\n      <td>23.500000</td>\n      <td>13.044250</td>\n      <td>13500</td>\n    </tr>\n    <tr>\n      <th>1998-12-29</th>\n      <td>23.56250</td>\n      <td>23.734375</td>\n      <td>23.34375</td>\n      <td>23.734375</td>\n      <td>13.174343</td>\n      <td>22000</td>\n    </tr>\n  </tbody>\n</table>\n</div>"
     },
     "execution_count": 4,
     "metadata": {},
     "output_type": "execute_result"
    }
   ],
   "source": [
    "XLE_data = yf.download(\n",
    "        tickers = \"XLE\",\n",
    "        period = \"max\",\n",
    "        interval = \"1d\",\n",
    "    )\n",
    "\n",
    "XLE_data.head()"
   ],
   "metadata": {
    "collapsed": false,
    "pycharm": {
     "name": "#%%\n"
    }
   }
  },
  {
   "cell_type": "code",
   "execution_count": 5,
   "outputs": [
    {
     "name": "stdout",
     "output_type": "stream",
     "text": [
      "[*********************100%***********************]  1 of 1 completed\n"
     ]
    },
    {
     "data": {
      "text/plain": "                 Open       High        Low      Close  Adj Close  Volume\nDate                                                                     \n1998-12-22  19.052092  19.052092  18.849005  18.937855  11.849172   55887\n1998-12-23  18.861698  19.217100  18.861698  19.217100  12.023895   78784\n1998-12-24  19.217100  19.344028  19.153635  19.344028  12.103311   43824\n1998-12-28  19.331335  19.331335  19.039398  19.090172  11.944473   51948\n1998-12-29  19.115557  19.293259  18.887083  19.293259  12.071541  100819",
      "text/html": "<div>\n<style scoped>\n    .dataframe tbody tr th:only-of-type {\n        vertical-align: middle;\n    }\n\n    .dataframe tbody tr th {\n        vertical-align: top;\n    }\n\n    .dataframe thead th {\n        text-align: right;\n    }\n</style>\n<table border=\"1\" class=\"dataframe\">\n  <thead>\n    <tr style=\"text-align: right;\">\n      <th></th>\n      <th>Open</th>\n      <th>High</th>\n      <th>Low</th>\n      <th>Close</th>\n      <th>Adj Close</th>\n      <th>Volume</th>\n    </tr>\n    <tr>\n      <th>Date</th>\n      <th></th>\n      <th></th>\n      <th></th>\n      <th></th>\n      <th></th>\n      <th></th>\n    </tr>\n  </thead>\n  <tbody>\n    <tr>\n      <th>1998-12-22</th>\n      <td>19.052092</td>\n      <td>19.052092</td>\n      <td>18.849005</td>\n      <td>18.937855</td>\n      <td>11.849172</td>\n      <td>55887</td>\n    </tr>\n    <tr>\n      <th>1998-12-23</th>\n      <td>18.861698</td>\n      <td>19.217100</td>\n      <td>18.861698</td>\n      <td>19.217100</td>\n      <td>12.023895</td>\n      <td>78784</td>\n    </tr>\n    <tr>\n      <th>1998-12-24</th>\n      <td>19.217100</td>\n      <td>19.344028</td>\n      <td>19.153635</td>\n      <td>19.344028</td>\n      <td>12.103311</td>\n      <td>43824</td>\n    </tr>\n    <tr>\n      <th>1998-12-28</th>\n      <td>19.331335</td>\n      <td>19.331335</td>\n      <td>19.039398</td>\n      <td>19.090172</td>\n      <td>11.944473</td>\n      <td>51948</td>\n    </tr>\n    <tr>\n      <th>1998-12-29</th>\n      <td>19.115557</td>\n      <td>19.293259</td>\n      <td>18.887083</td>\n      <td>19.293259</td>\n      <td>12.071541</td>\n      <td>100819</td>\n    </tr>\n  </tbody>\n</table>\n</div>"
     },
     "execution_count": 5,
     "metadata": {},
     "output_type": "execute_result"
    }
   ],
   "source": [
    "XLF_data = yf.download(\n",
    "        tickers = \"XLF\",\n",
    "        period = \"max\",\n",
    "        interval = \"1d\",\n",
    "    )\n",
    "\n",
    "XLF_data.head()"
   ],
   "metadata": {
    "collapsed": false,
    "pycharm": {
     "name": "#%%\n"
    }
   }
  },
  {
   "cell_type": "code",
   "execution_count": 6,
   "outputs": [
    {
     "name": "stdout",
     "output_type": "stream",
     "text": [
      "[*********************100%***********************]  1 of 1 completed\n"
     ]
    },
    {
     "data": {
      "text/plain": "                 Open      High        Low     Close  Adj Close  Volume\nDate                                                                   \n1998-12-22  24.812500  25.06250  24.812500  25.03125  17.791874    5700\n1998-12-23  25.187500  25.59375  25.187500  25.59375  18.191690   18100\n1998-12-24  25.625000  25.75000  25.515625  25.75000  18.302748    4900\n1998-12-28  25.671875  25.75000  25.375000  25.37500  18.036213   15500\n1998-12-29  25.375000  25.93750  25.375000  25.93750  18.436020    5300",
      "text/html": "<div>\n<style scoped>\n    .dataframe tbody tr th:only-of-type {\n        vertical-align: middle;\n    }\n\n    .dataframe tbody tr th {\n        vertical-align: top;\n    }\n\n    .dataframe thead th {\n        text-align: right;\n    }\n</style>\n<table border=\"1\" class=\"dataframe\">\n  <thead>\n    <tr style=\"text-align: right;\">\n      <th></th>\n      <th>Open</th>\n      <th>High</th>\n      <th>Low</th>\n      <th>Close</th>\n      <th>Adj Close</th>\n      <th>Volume</th>\n    </tr>\n    <tr>\n      <th>Date</th>\n      <th></th>\n      <th></th>\n      <th></th>\n      <th></th>\n      <th></th>\n      <th></th>\n    </tr>\n  </thead>\n  <tbody>\n    <tr>\n      <th>1998-12-22</th>\n      <td>24.812500</td>\n      <td>25.06250</td>\n      <td>24.812500</td>\n      <td>25.03125</td>\n      <td>17.791874</td>\n      <td>5700</td>\n    </tr>\n    <tr>\n      <th>1998-12-23</th>\n      <td>25.187500</td>\n      <td>25.59375</td>\n      <td>25.187500</td>\n      <td>25.59375</td>\n      <td>18.191690</td>\n      <td>18100</td>\n    </tr>\n    <tr>\n      <th>1998-12-24</th>\n      <td>25.625000</td>\n      <td>25.75000</td>\n      <td>25.515625</td>\n      <td>25.75000</td>\n      <td>18.302748</td>\n      <td>4900</td>\n    </tr>\n    <tr>\n      <th>1998-12-28</th>\n      <td>25.671875</td>\n      <td>25.75000</td>\n      <td>25.375000</td>\n      <td>25.37500</td>\n      <td>18.036213</td>\n      <td>15500</td>\n    </tr>\n    <tr>\n      <th>1998-12-29</th>\n      <td>25.375000</td>\n      <td>25.93750</td>\n      <td>25.375000</td>\n      <td>25.93750</td>\n      <td>18.436020</td>\n      <td>5300</td>\n    </tr>\n  </tbody>\n</table>\n</div>"
     },
     "execution_count": 6,
     "metadata": {},
     "output_type": "execute_result"
    }
   ],
   "source": [
    "XLV_data = yf.download(\n",
    "        tickers = \"XLV\",\n",
    "        period = \"max\",\n",
    "        interval = \"1d\",\n",
    "    )\n",
    "\n",
    "XLV_data.head()"
   ],
   "metadata": {
    "collapsed": false,
    "pycharm": {
     "name": "#%%\n"
    }
   }
  },
  {
   "cell_type": "code",
   "execution_count": 7,
   "outputs": [
    {
     "name": "stdout",
     "output_type": "stream",
     "text": [
      "[*********************100%***********************]  1 of 1 completed\n"
     ]
    },
    {
     "data": {
      "text/plain": "                 Open       High        Low     Close  Adj Close  Volume\nDate                                                                    \n1998-12-22  23.203125  23.281250  23.203125  23.28125  15.226746     600\n1998-12-23  23.453125  23.750000  23.453125  23.68750  15.492442     900\n1998-12-24  23.906250  24.015625  23.828125  24.00000  15.696838    1400\n1998-12-28  24.000000  24.140625  24.000000  24.12500  15.778581    7400\n1998-12-29  24.250000  24.468750  24.250000  24.46875  16.003412    1400",
      "text/html": "<div>\n<style scoped>\n    .dataframe tbody tr th:only-of-type {\n        vertical-align: middle;\n    }\n\n    .dataframe tbody tr th {\n        vertical-align: top;\n    }\n\n    .dataframe thead th {\n        text-align: right;\n    }\n</style>\n<table border=\"1\" class=\"dataframe\">\n  <thead>\n    <tr style=\"text-align: right;\">\n      <th></th>\n      <th>Open</th>\n      <th>High</th>\n      <th>Low</th>\n      <th>Close</th>\n      <th>Adj Close</th>\n      <th>Volume</th>\n    </tr>\n    <tr>\n      <th>Date</th>\n      <th></th>\n      <th></th>\n      <th></th>\n      <th></th>\n      <th></th>\n      <th></th>\n    </tr>\n  </thead>\n  <tbody>\n    <tr>\n      <th>1998-12-22</th>\n      <td>23.203125</td>\n      <td>23.281250</td>\n      <td>23.203125</td>\n      <td>23.28125</td>\n      <td>15.226746</td>\n      <td>600</td>\n    </tr>\n    <tr>\n      <th>1998-12-23</th>\n      <td>23.453125</td>\n      <td>23.750000</td>\n      <td>23.453125</td>\n      <td>23.68750</td>\n      <td>15.492442</td>\n      <td>900</td>\n    </tr>\n    <tr>\n      <th>1998-12-24</th>\n      <td>23.906250</td>\n      <td>24.015625</td>\n      <td>23.828125</td>\n      <td>24.00000</td>\n      <td>15.696838</td>\n      <td>1400</td>\n    </tr>\n    <tr>\n      <th>1998-12-28</th>\n      <td>24.000000</td>\n      <td>24.140625</td>\n      <td>24.000000</td>\n      <td>24.12500</td>\n      <td>15.778581</td>\n      <td>7400</td>\n    </tr>\n    <tr>\n      <th>1998-12-29</th>\n      <td>24.250000</td>\n      <td>24.468750</td>\n      <td>24.250000</td>\n      <td>24.46875</td>\n      <td>16.003412</td>\n      <td>1400</td>\n    </tr>\n  </tbody>\n</table>\n</div>"
     },
     "execution_count": 7,
     "metadata": {},
     "output_type": "execute_result"
    }
   ],
   "source": [
    "XLI_data = yf.download(\n",
    "        tickers = \"XLI\",\n",
    "        period = \"max\",\n",
    "        interval = \"1d\",\n",
    "    )\n",
    "\n",
    "XLI_data.head()"
   ],
   "metadata": {
    "collapsed": false,
    "pycharm": {
     "name": "#%%\n"
    }
   }
  },
  {
   "cell_type": "code",
   "execution_count": 8,
   "outputs": [
    {
     "name": "stdout",
     "output_type": "stream",
     "text": [
      "[*********************100%***********************]  1 of 1 completed\n"
     ]
    },
    {
     "data": {
      "text/plain": "                 Open       High        Low      Close  Adj Close  Volume\nDate                                                                     \n1998-12-22  20.781250  20.828125  20.750000  20.828125  12.260547    1900\n1998-12-23  20.968750  21.140625  20.968750  21.046875  12.389306     700\n1998-12-24  21.296875  21.531250  21.203125  21.531250  12.674435    1500\n1998-12-28  21.500000  21.500000  21.312500  21.343750  12.564065    2500\n1998-12-29  21.734375  21.734375  21.734375  21.734375  12.794011     100",
      "text/html": "<div>\n<style scoped>\n    .dataframe tbody tr th:only-of-type {\n        vertical-align: middle;\n    }\n\n    .dataframe tbody tr th {\n        vertical-align: top;\n    }\n\n    .dataframe thead th {\n        text-align: right;\n    }\n</style>\n<table border=\"1\" class=\"dataframe\">\n  <thead>\n    <tr style=\"text-align: right;\">\n      <th></th>\n      <th>Open</th>\n      <th>High</th>\n      <th>Low</th>\n      <th>Close</th>\n      <th>Adj Close</th>\n      <th>Volume</th>\n    </tr>\n    <tr>\n      <th>Date</th>\n      <th></th>\n      <th></th>\n      <th></th>\n      <th></th>\n      <th></th>\n      <th></th>\n    </tr>\n  </thead>\n  <tbody>\n    <tr>\n      <th>1998-12-22</th>\n      <td>20.781250</td>\n      <td>20.828125</td>\n      <td>20.750000</td>\n      <td>20.828125</td>\n      <td>12.260547</td>\n      <td>1900</td>\n    </tr>\n    <tr>\n      <th>1998-12-23</th>\n      <td>20.968750</td>\n      <td>21.140625</td>\n      <td>20.968750</td>\n      <td>21.046875</td>\n      <td>12.389306</td>\n      <td>700</td>\n    </tr>\n    <tr>\n      <th>1998-12-24</th>\n      <td>21.296875</td>\n      <td>21.531250</td>\n      <td>21.203125</td>\n      <td>21.531250</td>\n      <td>12.674435</td>\n      <td>1500</td>\n    </tr>\n    <tr>\n      <th>1998-12-28</th>\n      <td>21.500000</td>\n      <td>21.500000</td>\n      <td>21.312500</td>\n      <td>21.343750</td>\n      <td>12.564065</td>\n      <td>2500</td>\n    </tr>\n    <tr>\n      <th>1998-12-29</th>\n      <td>21.734375</td>\n      <td>21.734375</td>\n      <td>21.734375</td>\n      <td>21.734375</td>\n      <td>12.794011</td>\n      <td>100</td>\n    </tr>\n  </tbody>\n</table>\n</div>"
     },
     "execution_count": 8,
     "metadata": {},
     "output_type": "execute_result"
    }
   ],
   "source": [
    "XLB_data = yf.download(\n",
    "        tickers = \"XLB\",\n",
    "        period = \"max\",\n",
    "        interval = \"1d\",\n",
    "    )\n",
    "\n",
    "XLB_data.head()"
   ],
   "metadata": {
    "collapsed": false,
    "pycharm": {
     "name": "#%%\n"
    }
   }
  },
  {
   "cell_type": "code",
   "execution_count": 9,
   "outputs": [
    {
     "name": "stdout",
     "output_type": "stream",
     "text": [
      "[*********************100%***********************]  1 of 1 completed\n"
     ]
    },
    {
     "data": {
      "text/plain": "                 Open       High        Low      Close  Adj Close  Volume\nDate                                                                     \n2015-10-08  30.010000  30.209999  30.010000  30.209999  23.765337    2000\n2015-10-09  30.200001  30.200001  30.059999  30.160000  23.726004    4300\n2015-10-12  30.420000  30.420000  30.270000  30.350000  23.875463    2300\n2015-10-13  30.160000  30.160000  30.160000  30.160000  23.726004     500\n2015-10-14  30.160000  30.160000  30.160000  30.160000  23.726004       0",
      "text/html": "<div>\n<style scoped>\n    .dataframe tbody tr th:only-of-type {\n        vertical-align: middle;\n    }\n\n    .dataframe tbody tr th {\n        vertical-align: top;\n    }\n\n    .dataframe thead th {\n        text-align: right;\n    }\n</style>\n<table border=\"1\" class=\"dataframe\">\n  <thead>\n    <tr style=\"text-align: right;\">\n      <th></th>\n      <th>Open</th>\n      <th>High</th>\n      <th>Low</th>\n      <th>Close</th>\n      <th>Adj Close</th>\n      <th>Volume</th>\n    </tr>\n    <tr>\n      <th>Date</th>\n      <th></th>\n      <th></th>\n      <th></th>\n      <th></th>\n      <th></th>\n      <th></th>\n    </tr>\n  </thead>\n  <tbody>\n    <tr>\n      <th>2015-10-08</th>\n      <td>30.010000</td>\n      <td>30.209999</td>\n      <td>30.010000</td>\n      <td>30.209999</td>\n      <td>23.765337</td>\n      <td>2000</td>\n    </tr>\n    <tr>\n      <th>2015-10-09</th>\n      <td>30.200001</td>\n      <td>30.200001</td>\n      <td>30.059999</td>\n      <td>30.160000</td>\n      <td>23.726004</td>\n      <td>4300</td>\n    </tr>\n    <tr>\n      <th>2015-10-12</th>\n      <td>30.420000</td>\n      <td>30.420000</td>\n      <td>30.270000</td>\n      <td>30.350000</td>\n      <td>23.875463</td>\n      <td>2300</td>\n    </tr>\n    <tr>\n      <th>2015-10-13</th>\n      <td>30.160000</td>\n      <td>30.160000</td>\n      <td>30.160000</td>\n      <td>30.160000</td>\n      <td>23.726004</td>\n      <td>500</td>\n    </tr>\n    <tr>\n      <th>2015-10-14</th>\n      <td>30.160000</td>\n      <td>30.160000</td>\n      <td>30.160000</td>\n      <td>30.160000</td>\n      <td>23.726004</td>\n      <td>0</td>\n    </tr>\n  </tbody>\n</table>\n</div>"
     },
     "execution_count": 9,
     "metadata": {},
     "output_type": "execute_result"
    }
   ],
   "source": [
    "XLRE_data = yf.download(\n",
    "        tickers = \"XLRE\",\n",
    "        period = \"max\",\n",
    "        interval = \"1d\",\n",
    "    )\n",
    "\n",
    "XLRE_data.head()"
   ],
   "metadata": {
    "collapsed": false,
    "pycharm": {
     "name": "#%%\n"
    }
   }
  },
  {
   "cell_type": "code",
   "execution_count": 10,
   "outputs": [
    {
     "name": "stdout",
     "output_type": "stream",
     "text": [
      "[*********************100%***********************]  1 of 1 completed\n"
     ]
    },
    {
     "data": {
      "text/plain": "                Open       High       Low      Close  Adj Close  Volume\nDate                                                                   \n1998-12-22  32.40625  32.500000  31.78125  32.046875  24.469612  300500\n1998-12-23  32.75000  32.812500  32.15625  32.812500  25.054209  338300\n1998-12-24  32.81250  32.812500  32.56250  32.687500  24.958759  243700\n1998-12-28  33.18750  33.187500  32.59375  32.781250  25.030342  309300\n1998-12-29  32.93750  33.015625  32.50000  32.875000  25.101921  123800",
      "text/html": "<div>\n<style scoped>\n    .dataframe tbody tr th:only-of-type {\n        vertical-align: middle;\n    }\n\n    .dataframe tbody tr th {\n        vertical-align: top;\n    }\n\n    .dataframe thead th {\n        text-align: right;\n    }\n</style>\n<table border=\"1\" class=\"dataframe\">\n  <thead>\n    <tr style=\"text-align: right;\">\n      <th></th>\n      <th>Open</th>\n      <th>High</th>\n      <th>Low</th>\n      <th>Close</th>\n      <th>Adj Close</th>\n      <th>Volume</th>\n    </tr>\n    <tr>\n      <th>Date</th>\n      <th></th>\n      <th></th>\n      <th></th>\n      <th></th>\n      <th></th>\n      <th></th>\n    </tr>\n  </thead>\n  <tbody>\n    <tr>\n      <th>1998-12-22</th>\n      <td>32.40625</td>\n      <td>32.500000</td>\n      <td>31.78125</td>\n      <td>32.046875</td>\n      <td>24.469612</td>\n      <td>300500</td>\n    </tr>\n    <tr>\n      <th>1998-12-23</th>\n      <td>32.75000</td>\n      <td>32.812500</td>\n      <td>32.15625</td>\n      <td>32.812500</td>\n      <td>25.054209</td>\n      <td>338300</td>\n    </tr>\n    <tr>\n      <th>1998-12-24</th>\n      <td>32.81250</td>\n      <td>32.812500</td>\n      <td>32.56250</td>\n      <td>32.687500</td>\n      <td>24.958759</td>\n      <td>243700</td>\n    </tr>\n    <tr>\n      <th>1998-12-28</th>\n      <td>33.18750</td>\n      <td>33.187500</td>\n      <td>32.59375</td>\n      <td>32.781250</td>\n      <td>25.030342</td>\n      <td>309300</td>\n    </tr>\n    <tr>\n      <th>1998-12-29</th>\n      <td>32.93750</td>\n      <td>33.015625</td>\n      <td>32.50000</td>\n      <td>32.875000</td>\n      <td>25.101921</td>\n      <td>123800</td>\n    </tr>\n  </tbody>\n</table>\n</div>"
     },
     "execution_count": 10,
     "metadata": {},
     "output_type": "execute_result"
    }
   ],
   "source": [
    "XLK_data = yf.download(\n",
    "        tickers = \"XLK\",\n",
    "        period = \"max\",\n",
    "        interval = \"1d\",\n",
    "    )\n",
    "\n",
    "XLK_data.head()"
   ],
   "metadata": {
    "collapsed": false,
    "pycharm": {
     "name": "#%%\n"
    }
   }
  },
  {
   "cell_type": "code",
   "execution_count": 11,
   "outputs": [
    {
     "name": "stdout",
     "output_type": "stream",
     "text": [
      "[*********************100%***********************]  1 of 1 completed\n"
     ]
    },
    {
     "data": {
      "text/plain": "                 Open       High        Low      Close  Adj Close  Volume\nDate                                                                     \n1998-12-22  30.250000  30.250000  29.828125  29.828125  12.986416    7900\n1998-12-23  29.796875  29.796875  29.640625  29.703125  12.931993   24100\n1998-12-24  30.218750  30.312500  30.156250  30.250000  13.170085   23800\n1998-12-28  30.187500  30.250000  30.046875  30.093750  13.102063    3100\n1998-12-29  30.218750  30.671875  30.218750  30.593750  13.319751   12000",
      "text/html": "<div>\n<style scoped>\n    .dataframe tbody tr th:only-of-type {\n        vertical-align: middle;\n    }\n\n    .dataframe tbody tr th {\n        vertical-align: top;\n    }\n\n    .dataframe thead th {\n        text-align: right;\n    }\n</style>\n<table border=\"1\" class=\"dataframe\">\n  <thead>\n    <tr style=\"text-align: right;\">\n      <th></th>\n      <th>Open</th>\n      <th>High</th>\n      <th>Low</th>\n      <th>Close</th>\n      <th>Adj Close</th>\n      <th>Volume</th>\n    </tr>\n    <tr>\n      <th>Date</th>\n      <th></th>\n      <th></th>\n      <th></th>\n      <th></th>\n      <th></th>\n      <th></th>\n    </tr>\n  </thead>\n  <tbody>\n    <tr>\n      <th>1998-12-22</th>\n      <td>30.250000</td>\n      <td>30.250000</td>\n      <td>29.828125</td>\n      <td>29.828125</td>\n      <td>12.986416</td>\n      <td>7900</td>\n    </tr>\n    <tr>\n      <th>1998-12-23</th>\n      <td>29.796875</td>\n      <td>29.796875</td>\n      <td>29.640625</td>\n      <td>29.703125</td>\n      <td>12.931993</td>\n      <td>24100</td>\n    </tr>\n    <tr>\n      <th>1998-12-24</th>\n      <td>30.218750</td>\n      <td>30.312500</td>\n      <td>30.156250</td>\n      <td>30.250000</td>\n      <td>13.170085</td>\n      <td>23800</td>\n    </tr>\n    <tr>\n      <th>1998-12-28</th>\n      <td>30.187500</td>\n      <td>30.250000</td>\n      <td>30.046875</td>\n      <td>30.093750</td>\n      <td>13.102063</td>\n      <td>3100</td>\n    </tr>\n    <tr>\n      <th>1998-12-29</th>\n      <td>30.218750</td>\n      <td>30.671875</td>\n      <td>30.218750</td>\n      <td>30.593750</td>\n      <td>13.319751</td>\n      <td>12000</td>\n    </tr>\n  </tbody>\n</table>\n</div>"
     },
     "execution_count": 11,
     "metadata": {},
     "output_type": "execute_result"
    }
   ],
   "source": [
    "XLU_data = yf.download(\n",
    "        tickers = \"XLU\",\n",
    "        period = \"max\",\n",
    "        interval = \"1d\",\n",
    "    )\n",
    "\n",
    "XLU_data.head()"
   ],
   "metadata": {
    "collapsed": false,
    "pycharm": {
     "name": "#%%\n"
    }
   }
  },
  {
   "cell_type": "code",
   "execution_count": 12,
   "outputs": [],
   "source": [
    "# save downloaded data\n",
    "XLC_data.to_csv('data/XLC.csv')\n",
    "XLY_data.to_csv('data/XLY.csv')\n",
    "XLP_data.to_csv('data/XLP.csv')\n",
    "XLE_data.to_csv('data/XLE.csv')\n",
    "XLF_data.to_csv('data/XLF.csv')\n",
    "XLV_data.to_csv('data/XLV.csv')\n",
    "XLI_data.to_csv('data/XLI.csv')\n",
    "XLB_data.to_csv('data/XLB.csv')\n",
    "XLRE_data.to_csv('data/XLRE.csv')\n",
    "XLK_data.to_csv('data/XLK.csv')\n",
    "XLU_data.to_csv('data/XLU.csv')"
   ],
   "metadata": {
    "collapsed": false,
    "pycharm": {
     "name": "#%%\n"
    }
   }
  },
  {
   "cell_type": "markdown",
   "source": [
    "# LSTM Initial Deployment"
   ],
   "metadata": {
    "collapsed": false,
    "pycharm": {
     "name": "#%% md\n"
    }
   }
  },
  {
   "cell_type": "code",
   "execution_count": 13,
   "outputs": [
    {
     "data": {
      "text/plain": "                Open       High       Low      Close  Volume    Return\nDate                                                                  \n1998-12-22  32.40625  32.500000  31.78125  32.046875  300500       NaN\n1998-12-23  32.75000  32.812500  32.15625  32.812500  338300  2.389078\n1998-12-24  32.81250  32.812500  32.56250  32.687500  243700 -0.380952\n1998-12-28  33.18750  33.187500  32.59375  32.781250  309300  0.286807\n1998-12-29  32.93750  33.015625  32.50000  32.875000  123800  0.285987",
      "text/html": "<div>\n<style scoped>\n    .dataframe tbody tr th:only-of-type {\n        vertical-align: middle;\n    }\n\n    .dataframe tbody tr th {\n        vertical-align: top;\n    }\n\n    .dataframe thead th {\n        text-align: right;\n    }\n</style>\n<table border=\"1\" class=\"dataframe\">\n  <thead>\n    <tr style=\"text-align: right;\">\n      <th></th>\n      <th>Open</th>\n      <th>High</th>\n      <th>Low</th>\n      <th>Close</th>\n      <th>Volume</th>\n      <th>Return</th>\n    </tr>\n    <tr>\n      <th>Date</th>\n      <th></th>\n      <th></th>\n      <th></th>\n      <th></th>\n      <th></th>\n      <th></th>\n    </tr>\n  </thead>\n  <tbody>\n    <tr>\n      <th>1998-12-22</th>\n      <td>32.40625</td>\n      <td>32.500000</td>\n      <td>31.78125</td>\n      <td>32.046875</td>\n      <td>300500</td>\n      <td>NaN</td>\n    </tr>\n    <tr>\n      <th>1998-12-23</th>\n      <td>32.75000</td>\n      <td>32.812500</td>\n      <td>32.15625</td>\n      <td>32.812500</td>\n      <td>338300</td>\n      <td>2.389078</td>\n    </tr>\n    <tr>\n      <th>1998-12-24</th>\n      <td>32.81250</td>\n      <td>32.812500</td>\n      <td>32.56250</td>\n      <td>32.687500</td>\n      <td>243700</td>\n      <td>-0.380952</td>\n    </tr>\n    <tr>\n      <th>1998-12-28</th>\n      <td>33.18750</td>\n      <td>33.187500</td>\n      <td>32.59375</td>\n      <td>32.781250</td>\n      <td>309300</td>\n      <td>0.286807</td>\n    </tr>\n    <tr>\n      <th>1998-12-29</th>\n      <td>32.93750</td>\n      <td>33.015625</td>\n      <td>32.50000</td>\n      <td>32.875000</td>\n      <td>123800</td>\n      <td>0.285987</td>\n    </tr>\n  </tbody>\n</table>\n</div>"
     },
     "execution_count": 13,
     "metadata": {},
     "output_type": "execute_result"
    }
   ],
   "source": [
    "import numpy as np\n",
    "import pandas as pd\n",
    "\n",
    "XLK_data = pd.read_csv('data/XLK.csv', index_col=0)\n",
    "XLK_data['Return'] = ((XLK_data['Close'] / XLK_data['Close'].shift(1)) - 1) * 100\n",
    "XLK_data = XLK_data.drop('Adj Close', axis=1)\n",
    "XLK_data.head()"
   ],
   "metadata": {
    "collapsed": false,
    "pycharm": {
     "name": "#%%\n"
    }
   }
  },
  {
   "cell_type": "code",
   "execution_count": 14,
   "outputs": [],
   "source": [
    "# convert time series data into cross-sectional data\n",
    "def ts_split(ts, feature_steps=10, target_steps=1):\n",
    "    n_obs = len(ts) - feature_steps - target_steps + 1\n",
    "    X = np.array([ts[idx:idx + feature_steps] for idx in range(n_obs)])\n",
    "    y = np.array([ts[idx + feature_steps:idx + feature_steps + target_steps]\n",
    "                  for idx in range(n_obs)])\n",
    "    return X, y"
   ],
   "metadata": {
    "collapsed": false,
    "pycharm": {
     "name": "#%%\n"
    }
   }
  },
  {
   "cell_type": "code",
   "execution_count": 15,
   "outputs": [],
   "source": [
    "# preprocessing data\n",
    "from sklearn.preprocessing import MinMaxScaler\n",
    "\n",
    "train_start_date = '2013-01-01'\n",
    "train_end_date = '2019-12-31'\n",
    "valid_start_date = '2020-01-01'\n",
    "valid_end_date = '2021-12-31'\n",
    "test_start_date = '2022-01-01'\n",
    "test_end_date = '2022-12-02'\n",
    "# use past 20 days data to predict 5 day ahead\n",
    "window = 20\n",
    "ahead = 5\n",
    "\n",
    "train = XLK_data[train_start_date:train_end_date]\n",
    "valid = XLK_data[valid_start_date:valid_end_date]\n",
    "test = XLK_data[test_start_date:test_end_date]\n",
    "\n",
    "X_train, y_train = ts_split(train['Return'], feature_steps=window, target_steps=ahead)\n",
    "X_valid, y_valid = ts_split(valid['Return'], feature_steps=window, target_steps=ahead)\n",
    "X_test, y_test = ts_split(test['Return'], feature_steps=window, target_steps=ahead)\n",
    "\n",
    "scaler = MinMaxScaler()\n",
    "X_train = scaler.fit_transform(X_train)\n",
    "X_valid = scaler.transform(X_valid)\n",
    "X_test = scaler.transform(X_test)\n",
    "\n",
    "X_train = np.atleast_3d(X_train)\n",
    "X_valid = np.atleast_3d(X_valid)\n",
    "X_test = np.atleast_3d(X_test)\n",
    "\n",
    "for x in ['Open', 'High', 'Low', 'Close', 'Volume']:\n",
    "    X1, _ = ts_split(train[x], feature_steps=window, target_steps=ahead)\n",
    "    scaler = MinMaxScaler()\n",
    "    X1 = scaler.fit_transform(X1)\n",
    "    X2, _ = ts_split(valid[x], feature_steps=window, target_steps=ahead)\n",
    "    X2 = scaler.transform(X2)\n",
    "    X3, _ = ts_split(test[x], feature_steps=window, target_steps=ahead)\n",
    "    X3 = scaler.transform(X3)\n",
    "\n",
    "    X_train = np.append(X_train , np.atleast_3d(X1), axis=2)\n",
    "    X_valid = np.append(X_valid, np.atleast_3d(X2), axis=2)\n",
    "    X_test = np.append(X_test, np.atleast_3d(X3), axis=2)"
   ],
   "metadata": {
    "collapsed": false,
    "pycharm": {
     "name": "#%%\n"
    }
   }
  },
  {
   "cell_type": "code",
   "execution_count": 5,
   "outputs": [],
   "source": [
    "import tensorflow as tf\n",
    "import tensorflow.keras as keras\n",
    "import random as python_random\n",
    "\n",
    "# define helper function to set the random seed and reset the TensorFlow backend of Keras.\n",
    "def reset_session(seed=42):\n",
    "    tf.random.set_seed(seed)\n",
    "    python_random.seed(seed)\n",
    "    np.random.seed(seed)\n",
    "    tf.keras.backend.clear_session()"
   ],
   "metadata": {
    "collapsed": false,
    "pycharm": {
     "name": "#%%\n"
    }
   }
  },
  {
   "cell_type": "code",
   "execution_count": 17,
   "outputs": [
    {
     "name": "stdout",
     "output_type": "stream",
     "text": [
      "CPU times: total: 25min 30s\n",
      "Wall time: 3min 56s\n"
     ]
    },
    {
     "data": {
      "text/plain": "         loss  val_loss\n175  1.000929  4.114652\n176  1.004843  4.120540\n177  1.000488  4.125348\n178  1.010400  4.119784\n179  1.000067  4.138389\n180  0.989945  4.127195\n181  0.997871  4.108846\n182  0.995185  4.126028\n183  0.994496  4.141304\n184  0.994901  4.127294\n185  0.994999  4.136410",
      "text/html": "<div>\n<style scoped>\n    .dataframe tbody tr th:only-of-type {\n        vertical-align: middle;\n    }\n\n    .dataframe tbody tr th {\n        vertical-align: top;\n    }\n\n    .dataframe thead th {\n        text-align: right;\n    }\n</style>\n<table border=\"1\" class=\"dataframe\">\n  <thead>\n    <tr style=\"text-align: right;\">\n      <th></th>\n      <th>loss</th>\n      <th>val_loss</th>\n    </tr>\n  </thead>\n  <tbody>\n    <tr>\n      <th>175</th>\n      <td>1.000929</td>\n      <td>4.114652</td>\n    </tr>\n    <tr>\n      <th>176</th>\n      <td>1.004843</td>\n      <td>4.120540</td>\n    </tr>\n    <tr>\n      <th>177</th>\n      <td>1.000488</td>\n      <td>4.125348</td>\n    </tr>\n    <tr>\n      <th>178</th>\n      <td>1.010400</td>\n      <td>4.119784</td>\n    </tr>\n    <tr>\n      <th>179</th>\n      <td>1.000067</td>\n      <td>4.138389</td>\n    </tr>\n    <tr>\n      <th>180</th>\n      <td>0.989945</td>\n      <td>4.127195</td>\n    </tr>\n    <tr>\n      <th>181</th>\n      <td>0.997871</td>\n      <td>4.108846</td>\n    </tr>\n    <tr>\n      <th>182</th>\n      <td>0.995185</td>\n      <td>4.126028</td>\n    </tr>\n    <tr>\n      <th>183</th>\n      <td>0.994496</td>\n      <td>4.141304</td>\n    </tr>\n    <tr>\n      <th>184</th>\n      <td>0.994901</td>\n      <td>4.127294</td>\n    </tr>\n    <tr>\n      <th>185</th>\n      <td>0.994999</td>\n      <td>4.136410</td>\n    </tr>\n  </tbody>\n</table>\n</div>"
     },
     "execution_count": 17,
     "metadata": {},
     "output_type": "execute_result"
    }
   ],
   "source": [
    "%%time\n",
    "reset_session()\n",
    "\n",
    "model = keras.models.Sequential([\n",
    "    keras.layers.LSTM(40, return_sequences=True, dropout=0.2, recurrent_dropout=0.2, input_shape=[X_train.shape[1], X_train.shape[2]]),\n",
    "    keras.layers.LSTM(40, return_sequences=True, dropout=0.2, recurrent_dropout=0.2),\n",
    "    keras.layers.LSTM(40, return_sequences=False, dropout=0.2, recurrent_dropout=0.2),\n",
    "    keras.layers.Dense(5)\n",
    "])\n",
    "\n",
    "model.compile(loss=\"mse\", optimizer=\"nadam\")\n",
    "early_stopping_cb = keras.callbacks.EarlyStopping(monitor='val_loss',\n",
    "                                                  patience=50,\n",
    "                                                  restore_best_weights=True)\n",
    "run = model.fit(X_train, y_train, epochs=500,\n",
    "                validation_data=(X_valid, y_valid),\n",
    "                callbacks=early_stopping_cb, verbose=0)\n",
    "pd.DataFrame(run.history).iloc[-11:]"
   ],
   "metadata": {
    "collapsed": false,
    "pycharm": {
     "name": "#%%\n"
    }
   }
  },
  {
   "cell_type": "code",
   "execution_count": 18,
   "outputs": [
    {
     "data": {
      "text/plain": "<Figure size 800x500 with 1 Axes>",
      "image/png": "[encoded data removed]"
     },
     "metadata": {},
     "output_type": "display_data"
    }
   ],
   "source": [
    "import matplotlib.pyplot as plt\n",
    "\n",
    "pd.DataFrame(run.history).plot(figsize=(8, 5))\n",
    "plt.grid(True)\n",
    "plt.show()"
   ],
   "metadata": {
    "collapsed": false,
    "pycharm": {
     "name": "#%%\n"
    }
   }
  },
  {
   "cell_type": "code",
   "execution_count": 19,
   "outputs": [
    {
     "data": {
      "text/plain": "array([2.1294588 , 2.12321892, 2.14346227, 2.13229797, 2.13512687])"
     },
     "execution_count": 19,
     "metadata": {},
     "output_type": "execute_result"
    }
   ],
   "source": [
    "from sklearn.metrics import mean_squared_error\n",
    "\n",
    "y_pred = model.predict(X_test)\n",
    "rmse = np.sqrt(mean_squared_error(y_test, y_pred, multioutput=\"raw_values\"))\n",
    "rmse"
   ],
   "metadata": {
    "collapsed": false,
    "pycharm": {
     "name": "#%%\n"
    }
   }
  },
  {
   "cell_type": "markdown",
   "source": [
    "# Package"
   ],
   "metadata": {
    "collapsed": false,
    "pycharm": {
     "name": "#%% md\n"
    }
   }
  },
  {
   "cell_type": "code",
   "execution_count": 1,
   "outputs": [],
   "source": [
    "import numpy as np\n",
    "import pandas as pd\n",
    "from sklearn.preprocessing import MinMaxScaler\n",
    "import tensorflow as tf\n",
    "import tensorflow.keras as keras\n",
    "from sklearn.metrics import mean_squared_error\n",
    "\n",
    "\n",
    "def model_build(data, t1, t2, t3, t4, t5, t6, window, ahead):\n",
    "    def ts_split(ts, feature_steps=10, target_steps=1):\n",
    "        n_obs = len(ts) - feature_steps - target_steps + 1\n",
    "        X = np.array([ts[idx:idx + feature_steps] for idx in range(n_obs)])\n",
    "        y = np.array([ts[idx + feature_steps:idx + feature_steps + target_steps]\n",
    "                      for idx in range(n_obs)])\n",
    "        return X, y\n",
    "\n",
    "    train = data[t1:t2]\n",
    "    valid = data[t3:t4]\n",
    "    test = data[t5:t6]\n",
    "    X_train, y_train = ts_split(train['Return'], feature_steps=window, target_steps=ahead)\n",
    "    X_valid, y_valid = ts_split(valid['Return'], feature_steps=window, target_steps=ahead)\n",
    "    X_test, y_test = ts_split(test['Return'], feature_steps=window, target_steps=ahead)\n",
    "\n",
    "    scaler = MinMaxScaler()\n",
    "    X_train = scaler.fit_transform(X_train)\n",
    "    X_valid = scaler.transform(X_valid)\n",
    "    X_test = scaler.transform(X_test)\n",
    "\n",
    "    X_train = np.atleast_3d(X_train)\n",
    "    X_valid = np.atleast_3d(X_valid)\n",
    "    X_test = np.atleast_3d(X_test)\n",
    "\n",
    "    for x in ['Open', 'High', 'Low', 'Close', 'Volume']:\n",
    "        X1, _ = ts_split(train[x], feature_steps=window, target_steps=ahead)\n",
    "        scaler = MinMaxScaler()\n",
    "        X1 = scaler.fit_transform(X1)\n",
    "        X2, _ = ts_split(valid[x], feature_steps=window, target_steps=ahead)\n",
    "        X2 = scaler.transform(X2)\n",
    "        X3, _ = ts_split(test[x], feature_steps=window, target_steps=ahead)\n",
    "        X3 = scaler.transform(X3)\n",
    "\n",
    "        X_train = np.append(X_train , np.atleast_3d(X1), axis=2)\n",
    "        X_valid = np.append(X_valid, np.atleast_3d(X2), axis=2)\n",
    "        X_test = np.append(X_test, np.atleast_3d(X3), axis=2)\n",
    "\n",
    "    model = keras.models.Sequential([\n",
    "        keras.layers.LSTM(40, return_sequences=True, dropout=0.2, recurrent_dropout=0.2, input_shape=[X_train.shape[1], X_train.shape[2]]),\n",
    "        keras.layers.LSTM(40, return_sequences=True, dropout=0.2, recurrent_dropout=0.2),\n",
    "        keras.layers.LSTM(40, return_sequences=False, dropout=0.2, recurrent_dropout=0.2),\n",
    "        keras.layers.Dense(5)\n",
    "    ])\n",
    "\n",
    "    model.compile(loss=\"mse\", optimizer=\"nadam\")\n",
    "    early_stopping_cb = keras.callbacks.EarlyStopping(monitor='val_loss',\n",
    "                                                      patience=50,\n",
    "                                                      restore_best_weights=True)\n",
    "    run = model.fit(X_train, y_train, epochs=500,\n",
    "                    validation_data=(X_valid, y_valid),\n",
    "                    callbacks=early_stopping_cb, verbose=0)\n",
    "\n",
    "    y_pred = model.predict(X_test)\n",
    "    rmse = np.sqrt(mean_squared_error(y_test, y_pred, multioutput=\"raw_values\"))\n",
    "\n",
    "    return model, run, rmse"
   ],
   "metadata": {
    "collapsed": false,
    "pycharm": {
     "name": "#%%\n"
    }
   }
  },
  {
   "cell_type": "markdown",
   "source": [
    "# XLB"
   ],
   "metadata": {
    "collapsed": false,
    "pycharm": {
     "name": "#%% md\n"
    }
   }
  },
  {
   "cell_type": "code",
   "execution_count": 26,
   "outputs": [
    {
     "data": {
      "text/plain": "                 Open       High        Low      Close  Volume    Return\nDate                                                                    \n1998-12-22  20.781250  20.828125  20.750000  20.828125    1900       NaN\n1998-12-23  20.968750  21.140625  20.968750  21.046875     700  1.050263\n1998-12-24  21.296875  21.531250  21.203125  21.531250    1500  2.301411\n1998-12-28  21.500000  21.500000  21.312500  21.343750    2500 -0.870827\n1998-12-29  21.734375  21.734375  21.734375  21.734375     100  1.830161",
      "text/html": "<div>\n<style scoped>\n    .dataframe tbody tr th:only-of-type {\n        vertical-align: middle;\n    }\n\n    .dataframe tbody tr th {\n        vertical-align: top;\n    }\n\n    .dataframe thead th {\n        text-align: right;\n    }\n</style>\n<table border=\"1\" class=\"dataframe\">\n  <thead>\n    <tr style=\"text-align: right;\">\n      <th></th>\n      <th>Open</th>\n      <th>High</th>\n      <th>Low</th>\n      <th>Close</th>\n      <th>Volume</th>\n      <th>Return</th>\n    </tr>\n    <tr>\n      <th>Date</th>\n      <th></th>\n      <th></th>\n      <th></th>\n      <th></th>\n      <th></th>\n      <th></th>\n    </tr>\n  </thead>\n  <tbody>\n    <tr>\n      <th>1998-12-22</th>\n      <td>20.781250</td>\n      <td>20.828125</td>\n      <td>20.750000</td>\n      <td>20.828125</td>\n      <td>1900</td>\n      <td>NaN</td>\n    </tr>\n    <tr>\n      <th>1998-12-23</th>\n      <td>20.968750</td>\n      <td>21.140625</td>\n      <td>20.968750</td>\n      <td>21.046875</td>\n      <td>700</td>\n      <td>1.050263</td>\n    </tr>\n    <tr>\n      <th>1998-12-24</th>\n      <td>21.296875</td>\n      <td>21.531250</td>\n      <td>21.203125</td>\n      <td>21.531250</td>\n      <td>1500</td>\n      <td>2.301411</td>\n    </tr>\n    <tr>\n      <th>1998-12-28</th>\n      <td>21.500000</td>\n      <td>21.500000</td>\n      <td>21.312500</td>\n      <td>21.343750</td>\n      <td>2500</td>\n      <td>-0.870827</td>\n    </tr>\n    <tr>\n      <th>1998-12-29</th>\n      <td>21.734375</td>\n      <td>21.734375</td>\n      <td>21.734375</td>\n      <td>21.734375</td>\n      <td>100</td>\n      <td>1.830161</td>\n    </tr>\n  </tbody>\n</table>\n</div>"
     },
     "execution_count": 26,
     "metadata": {},
     "output_type": "execute_result"
    }
   ],
   "source": [
    "train_start_date = '2013-01-01'\n",
    "train_end_date = '2019-12-31'\n",
    "valid_start_date = '2020-01-01'\n",
    "valid_end_date = '2021-12-31'\n",
    "test_start_date = '2022-01-01'\n",
    "test_end_date = '2022-12-02'\n",
    "\n",
    "window = 20\n",
    "ahead = 5\n",
    "\n",
    "XLB_data = pd.read_csv('data/XLB.csv', index_col=0)\n",
    "XLB_data['Return'] = ((XLB_data['Close'] / XLB_data['Close'].shift(1)) - 1) * 100\n",
    "XLB_data = XLB_data.drop('Adj Close', axis=1)\n",
    "XLB_data.head()"
   ],
   "metadata": {
    "collapsed": false,
    "pycharm": {
     "name": "#%%\n"
    }
   }
  },
  {
   "cell_type": "code",
   "execution_count": 27,
   "outputs": [
    {
     "name": "stdout",
     "output_type": "stream",
     "text": [
      "CPU times: total: 7min\n",
      "Wall time: 1min 8s\n"
     ]
    }
   ],
   "source": [
    "%%time\n",
    "reset_session()\n",
    "\n",
    "XLB_model, XLB_run, XLB_rmse = model_build(XLB_data, train_start_date, train_end_date, valid_start_date, valid_end_date,\n",
    "                                           test_start_date, test_end_date, window, ahead)"
   ],
   "metadata": {
    "collapsed": false,
    "pycharm": {
     "name": "#%%\n"
    }
   }
  },
  {
   "cell_type": "code",
   "execution_count": 28,
   "outputs": [
    {
     "data": {
      "text/plain": "<Figure size 800x500 with 1 Axes>",
      "image/png": "[encoded data removed]"
     },
     "metadata": {},
     "output_type": "display_data"
    }
   ],
   "source": [
    "import matplotlib.pyplot as plt\n",
    "\n",
    "pd.DataFrame(XLB_run.history).plot(figsize=(8, 5))\n",
    "plt.grid(True)\n",
    "plt.show()"
   ],
   "metadata": {
    "collapsed": false,
    "pycharm": {
     "name": "#%%\n"
    }
   }
  },
  {
   "cell_type": "code",
   "execution_count": 29,
   "outputs": [
    {
     "data": {
      "text/plain": "array([1.65570196, 1.65424306, 1.66334313, 1.65790433, 1.65525331])"
     },
     "execution_count": 29,
     "metadata": {},
     "output_type": "execute_result"
    }
   ],
   "source": [
    "XLB_rmse"
   ],
   "metadata": {
    "collapsed": false,
    "pycharm": {
     "name": "#%%\n"
    }
   }
  },
  {
   "cell_type": "markdown",
   "source": [
    "# XLC"
   ],
   "metadata": {
    "collapsed": false,
    "pycharm": {
     "name": "#%% md\n"
    }
   }
  },
  {
   "cell_type": "code",
   "execution_count": 32,
   "outputs": [
    {
     "data": {
      "text/plain": "                 Open       High        Low      Close   Volume    Return\nDate                                                                     \n2018-06-19  49.700001  50.060001  49.580002  49.959999    16600       NaN\n2018-06-20  50.450001  50.889000  50.450001  50.580002   190000  1.240998\n2018-06-21  50.770000  50.849998  50.200001  50.270000   428700 -0.612893\n2018-06-22  50.590000  50.610001  50.189999  50.490002   181500  0.437639\n2018-06-25  50.230000  50.230000  49.014999  49.450001  2509600 -2.059816",
      "text/html": "<div>\n<style scoped>\n    .dataframe tbody tr th:only-of-type {\n        vertical-align: middle;\n    }\n\n    .dataframe tbody tr th {\n        vertical-align: top;\n    }\n\n    .dataframe thead th {\n        text-align: right;\n    }\n</style>\n<table border=\"1\" class=\"dataframe\">\n  <thead>\n    <tr style=\"text-align: right;\">\n      <th></th>\n      <th>Open</th>\n      <th>High</th>\n      <th>Low</th>\n      <th>Close</th>\n      <th>Volume</th>\n      <th>Return</th>\n    </tr>\n    <tr>\n      <th>Date</th>\n      <th></th>\n      <th></th>\n      <th></th>\n      <th></th>\n      <th></th>\n      <th></th>\n    </tr>\n  </thead>\n  <tbody>\n    <tr>\n      <th>2018-06-19</th>\n      <td>49.700001</td>\n      <td>50.060001</td>\n      <td>49.580002</td>\n      <td>49.959999</td>\n      <td>16600</td>\n      <td>NaN</td>\n    </tr>\n    <tr>\n      <th>2018-06-20</th>\n      <td>50.450001</td>\n      <td>50.889000</td>\n      <td>50.450001</td>\n      <td>50.580002</td>\n      <td>190000</td>\n      <td>1.240998</td>\n    </tr>\n    <tr>\n      <th>2018-06-21</th>\n      <td>50.770000</td>\n      <td>50.849998</td>\n      <td>50.200001</td>\n      <td>50.270000</td>\n      <td>428700</td>\n      <td>-0.612893</td>\n    </tr>\n    <tr>\n      <th>2018-06-22</th>\n      <td>50.590000</td>\n      <td>50.610001</td>\n      <td>50.189999</td>\n      <td>50.490002</td>\n      <td>181500</td>\n      <td>0.437639</td>\n    </tr>\n    <tr>\n      <th>2018-06-25</th>\n      <td>50.230000</td>\n      <td>50.230000</td>\n      <td>49.014999</td>\n      <td>49.450001</td>\n      <td>2509600</td>\n      <td>-2.059816</td>\n    </tr>\n  </tbody>\n</table>\n</div>"
     },
     "execution_count": 32,
     "metadata": {},
     "output_type": "execute_result"
    }
   ],
   "source": [
    "train_start_date = '2019-01-01'\n",
    "train_end_date = '2021-12-31'\n",
    "valid_start_date = '2022-01-01'\n",
    "valid_end_date = '2022-06-30'\n",
    "test_start_date = '2022-07-01'\n",
    "test_end_date = '2022-12-02'\n",
    "\n",
    "window = 20\n",
    "ahead = 5\n",
    "\n",
    "XLC_data = pd.read_csv('data/XLC.csv', index_col=0)\n",
    "XLC_data['Return'] = ((XLC_data['Close'] / XLC_data['Close'].shift(1)) - 1) * 100\n",
    "XLC_data = XLC_data.drop('Adj Close', axis=1)\n",
    "XLC_data.head()"
   ],
   "metadata": {
    "collapsed": false,
    "pycharm": {
     "name": "#%%\n"
    }
   }
  },
  {
   "cell_type": "code",
   "execution_count": 33,
   "outputs": [
    {
     "name": "stdout",
     "output_type": "stream",
     "text": [
      "CPU times: total: 4min 7s\n",
      "Wall time: 43.5 s\n"
     ]
    }
   ],
   "source": [
    "%%time\n",
    "reset_session()\n",
    "\n",
    "XLC_model, XLC_run, XLC_rmse = model_build(XLC_data, train_start_date, train_end_date, valid_start_date, valid_end_date,\n",
    "                                           test_start_date, test_end_date, window, ahead)"
   ],
   "metadata": {
    "collapsed": false,
    "pycharm": {
     "name": "#%%\n"
    }
   }
  },
  {
   "cell_type": "code",
   "execution_count": 34,
   "outputs": [
    {
     "data": {
      "text/plain": "<Figure size 800x500 with 1 Axes>",
      "image/png": "[encoded data removed]"
     },
     "metadata": {},
     "output_type": "display_data"
    }
   ],
   "source": [
    "import matplotlib.pyplot as plt\n",
    "\n",
    "pd.DataFrame(XLC_run.history).plot(figsize=(8, 5))\n",
    "plt.grid(True)\n",
    "plt.show()"
   ],
   "metadata": {
    "collapsed": false,
    "pycharm": {
     "name": "#%%\n"
    }
   }
  },
  {
   "cell_type": "code",
   "execution_count": 35,
   "outputs": [
    {
     "data": {
      "text/plain": "array([1.90943655, 1.90964596, 1.95636516, 1.9399431 , 1.93896893])"
     },
     "execution_count": 35,
     "metadata": {},
     "output_type": "execute_result"
    }
   ],
   "source": [
    "XLC_rmse"
   ],
   "metadata": {
    "collapsed": false,
    "pycharm": {
     "name": "#%%\n"
    }
   }
  },
  {
   "cell_type": "markdown",
   "source": [
    "# XLE"
   ],
   "metadata": {
    "collapsed": false,
    "pycharm": {
     "name": "#%% md\n"
    }
   }
  },
  {
   "cell_type": "code",
   "execution_count": 36,
   "outputs": [
    {
     "data": {
      "text/plain": "                Open       High       Low      Close  Volume    Return\nDate                                                                  \n1998-12-22  23.31250  23.390625  23.18750  23.265625   15200       NaN\n1998-12-23  23.34375  23.750000  23.31250  23.750000   67800  2.081934\n1998-12-24  23.81250  23.812500  23.59375  23.625000   12300 -0.526316\n1998-12-28  23.75000  23.750000  23.34375  23.500000   13500 -0.529101\n1998-12-29  23.56250  23.734375  23.34375  23.734375   22000  0.997340",
      "text/html": "<div>\n<style scoped>\n    .dataframe tbody tr th:only-of-type {\n        vertical-align: middle;\n    }\n\n    .dataframe tbody tr th {\n        vertical-align: top;\n    }\n\n    .dataframe thead th {\n        text-align: right;\n    }\n</style>\n<table border=\"1\" class=\"dataframe\">\n  <thead>\n    <tr style=\"text-align: right;\">\n      <th></th>\n      <th>Open</th>\n      <th>High</th>\n      <th>Low</th>\n      <th>Close</th>\n      <th>Volume</th>\n      <th>Return</th>\n    </tr>\n    <tr>\n      <th>Date</th>\n      <th></th>\n      <th></th>\n      <th></th>\n      <th></th>\n      <th></th>\n      <th></th>\n    </tr>\n  </thead>\n  <tbody>\n    <tr>\n      <th>1998-12-22</th>\n      <td>23.31250</td>\n      <td>23.390625</td>\n      <td>23.18750</td>\n      <td>23.265625</td>\n      <td>15200</td>\n      <td>NaN</td>\n    </tr>\n    <tr>\n      <th>1998-12-23</th>\n      <td>23.34375</td>\n      <td>23.750000</td>\n      <td>23.31250</td>\n      <td>23.750000</td>\n      <td>67800</td>\n      <td>2.081934</td>\n    </tr>\n    <tr>\n      <th>1998-12-24</th>\n      <td>23.81250</td>\n      <td>23.812500</td>\n      <td>23.59375</td>\n      <td>23.625000</td>\n      <td>12300</td>\n      <td>-0.526316</td>\n    </tr>\n    <tr>\n      <th>1998-12-28</th>\n      <td>23.75000</td>\n      <td>23.750000</td>\n      <td>23.34375</td>\n      <td>23.500000</td>\n      <td>13500</td>\n      <td>-0.529101</td>\n    </tr>\n    <tr>\n      <th>1998-12-29</th>\n      <td>23.56250</td>\n      <td>23.734375</td>\n      <td>23.34375</td>\n      <td>23.734375</td>\n      <td>22000</td>\n      <td>0.997340</td>\n    </tr>\n  </tbody>\n</table>\n</div>"
     },
     "execution_count": 36,
     "metadata": {},
     "output_type": "execute_result"
    }
   ],
   "source": [
    "train_start_date = '2013-01-01'\n",
    "train_end_date = '2019-12-31'\n",
    "valid_start_date = '2020-01-01'\n",
    "valid_end_date = '2021-12-31'\n",
    "test_start_date = '2022-01-01'\n",
    "test_end_date = '2022-12-02'\n",
    "\n",
    "window = 20\n",
    "ahead = 5\n",
    "\n",
    "XLE_data = pd.read_csv('data/XLE.csv', index_col=0)\n",
    "XLE_data['Return'] = ((XLE_data['Close'] / XLE_data['Close'].shift(1)) - 1) * 100\n",
    "XLE_data = XLE_data.drop('Adj Close', axis=1)\n",
    "XLE_data.head()"
   ],
   "metadata": {
    "collapsed": false,
    "pycharm": {
     "name": "#%%\n"
    }
   }
  },
  {
   "cell_type": "code",
   "execution_count": 37,
   "outputs": [
    {
     "name": "stdout",
     "output_type": "stream",
     "text": [
      "CPU times: total: 8min 48s\n",
      "Wall time: 1min 26s\n"
     ]
    }
   ],
   "source": [
    "%%time\n",
    "reset_session()\n",
    "\n",
    "XLE_model, XLE_run, XLE_rmse = model_build(XLE_data, train_start_date, train_end_date, valid_start_date, valid_end_date,\n",
    "                                           test_start_date, test_end_date, window, ahead)"
   ],
   "metadata": {
    "collapsed": false,
    "pycharm": {
     "name": "#%%\n"
    }
   }
  },
  {
   "cell_type": "code",
   "execution_count": 38,
   "outputs": [
    {
     "data": {
      "text/plain": "<Figure size 800x500 with 1 Axes>",
      "image/png": "[encoded data removed]"
     },
     "metadata": {},
     "output_type": "display_data"
    }
   ],
   "source": [
    "import matplotlib.pyplot as plt\n",
    "\n",
    "pd.DataFrame(XLE_run.history).plot(figsize=(8, 5))\n",
    "plt.grid(True)\n",
    "plt.show()"
   ],
   "metadata": {
    "collapsed": false,
    "pycharm": {
     "name": "#%%\n"
    }
   }
  },
  {
   "cell_type": "code",
   "execution_count": 39,
   "outputs": [
    {
     "data": {
      "text/plain": "array([2.22915993, 2.22012689, 2.21672348, 2.19392464, 2.15883441])"
     },
     "execution_count": 39,
     "metadata": {},
     "output_type": "execute_result"
    }
   ],
   "source": [
    "XLE_rmse"
   ],
   "metadata": {
    "collapsed": false,
    "pycharm": {
     "name": "#%%\n"
    }
   }
  },
  {
   "cell_type": "markdown",
   "source": [
    "# XLF"
   ],
   "metadata": {
    "collapsed": false,
    "pycharm": {
     "name": "#%% md\n"
    }
   }
  },
  {
   "cell_type": "code",
   "execution_count": 3,
   "outputs": [
    {
     "data": {
      "text/plain": "                 Open       High        Low      Close  Volume    Return\nDate                                                                    \n1998-12-22  19.052092  19.052092  18.849005  18.937855   55887       NaN\n1998-12-23  18.861698  19.217100  18.861698  19.217100   78784  1.474535\n1998-12-24  19.217100  19.344028  19.153635  19.344028   43824  0.660497\n1998-12-28  19.331335  19.331335  19.039398  19.090172   51948 -1.312326\n1998-12-29  19.115557  19.293259  18.887083  19.293259  100819  1.063829",
      "text/html": "<div>\n<style scoped>\n    .dataframe tbody tr th:only-of-type {\n        vertical-align: middle;\n    }\n\n    .dataframe tbody tr th {\n        vertical-align: top;\n    }\n\n    .dataframe thead th {\n        text-align: right;\n    }\n</style>\n<table border=\"1\" class=\"dataframe\">\n  <thead>\n    <tr style=\"text-align: right;\">\n      <th></th>\n      <th>Open</th>\n      <th>High</th>\n      <th>Low</th>\n      <th>Close</th>\n      <th>Volume</th>\n      <th>Return</th>\n    </tr>\n    <tr>\n      <th>Date</th>\n      <th></th>\n      <th></th>\n      <th></th>\n      <th></th>\n      <th></th>\n      <th></th>\n    </tr>\n  </thead>\n  <tbody>\n    <tr>\n      <th>1998-12-22</th>\n      <td>19.052092</td>\n      <td>19.052092</td>\n      <td>18.849005</td>\n      <td>18.937855</td>\n      <td>55887</td>\n      <td>NaN</td>\n    </tr>\n    <tr>\n      <th>1998-12-23</th>\n      <td>18.861698</td>\n      <td>19.217100</td>\n      <td>18.861698</td>\n      <td>19.217100</td>\n      <td>78784</td>\n      <td>1.474535</td>\n    </tr>\n    <tr>\n      <th>1998-12-24</th>\n      <td>19.217100</td>\n      <td>19.344028</td>\n      <td>19.153635</td>\n      <td>19.344028</td>\n      <td>43824</td>\n      <td>0.660497</td>\n    </tr>\n    <tr>\n      <th>1998-12-28</th>\n      <td>19.331335</td>\n      <td>19.331335</td>\n      <td>19.039398</td>\n      <td>19.090172</td>\n      <td>51948</td>\n      <td>-1.312326</td>\n    </tr>\n    <tr>\n      <th>1998-12-29</th>\n      <td>19.115557</td>\n      <td>19.293259</td>\n      <td>18.887083</td>\n      <td>19.293259</td>\n      <td>100819</td>\n      <td>1.063829</td>\n    </tr>\n  </tbody>\n</table>\n</div>"
     },
     "execution_count": 3,
     "metadata": {},
     "output_type": "execute_result"
    }
   ],
   "source": [
    "train_start_date = '2013-01-01'\n",
    "train_end_date = '2019-12-31'\n",
    "valid_start_date = '2020-01-01'\n",
    "valid_end_date = '2021-12-31'\n",
    "test_start_date = '2022-01-01'\n",
    "test_end_date = '2022-12-02'\n",
    "\n",
    "window = 20\n",
    "ahead = 5\n",
    "\n",
    "XLF_data = pd.read_csv('data/XLF.csv', index_col=0)\n",
    "XLF_data['Return'] = ((XLF_data['Close'] / XLF_data['Close'].shift(1)) - 1) * 100\n",
    "XLF_data = XLF_data.drop('Adj Close', axis=1)\n",
    "XLF_data.head()"
   ],
   "metadata": {
    "collapsed": false,
    "pycharm": {
     "name": "#%%\n"
    }
   }
  },
  {
   "cell_type": "code",
   "execution_count": 6,
   "outputs": [
    {
     "name": "stdout",
     "output_type": "stream",
     "text": [
      "CPU times: total: 32min 39s\n",
      "Wall time: 4min 59s\n"
     ]
    }
   ],
   "source": [
    "%%time\n",
    "reset_session()\n",
    "\n",
    "XLF_model, XLF_run, XLF_rmse = model_build(XLF_data, train_start_date, train_end_date, valid_start_date, valid_end_date,\n",
    "                                           test_start_date, test_end_date, window, ahead)"
   ],
   "metadata": {
    "collapsed": false,
    "pycharm": {
     "name": "#%%\n"
    }
   }
  },
  {
   "cell_type": "code",
   "execution_count": 7,
   "outputs": [
    {
     "data": {
      "text/plain": "<Figure size 800x500 with 1 Axes>",
      "image/png": "[encoded data removed]"
     },
     "metadata": {},
     "output_type": "display_data"
    }
   ],
   "source": [
    "import matplotlib.pyplot as plt\n",
    "\n",
    "pd.DataFrame(XLF_run.history).plot(figsize=(8, 5))\n",
    "plt.grid(True)\n",
    "plt.show()"
   ],
   "metadata": {
    "collapsed": false,
    "pycharm": {
     "name": "#%%\n"
    }
   }
  },
  {
   "cell_type": "code",
   "execution_count": 8,
   "outputs": [
    {
     "data": {
      "text/plain": "array([1.61060224, 1.60596479, 1.605024  , 1.604555  , 1.59948846])"
     },
     "execution_count": 8,
     "metadata": {},
     "output_type": "execute_result"
    }
   ],
   "source": [
    "XLF_rmse"
   ],
   "metadata": {
    "collapsed": false,
    "pycharm": {
     "name": "#%%\n"
    }
   }
  },
  {
   "cell_type": "markdown",
   "source": [
    "# XLI"
   ],
   "metadata": {
    "collapsed": false,
    "pycharm": {
     "name": "#%% md\n"
    }
   }
  },
  {
   "cell_type": "code",
   "execution_count": 9,
   "outputs": [
    {
     "data": {
      "text/plain": "                 Open       High        Low     Close  Volume    Return\nDate                                                                   \n1998-12-22  23.203125  23.281250  23.203125  23.28125     600       NaN\n1998-12-23  23.453125  23.750000  23.453125  23.68750     900  1.744966\n1998-12-24  23.906250  24.015625  23.828125  24.00000    1400  1.319261\n1998-12-28  24.000000  24.140625  24.000000  24.12500    7400  0.520833\n1998-12-29  24.250000  24.468750  24.250000  24.46875    1400  1.424870",
      "text/html": "<div>\n<style scoped>\n    .dataframe tbody tr th:only-of-type {\n        vertical-align: middle;\n    }\n\n    .dataframe tbody tr th {\n        vertical-align: top;\n    }\n\n    .dataframe thead th {\n        text-align: right;\n    }\n</style>\n<table border=\"1\" class=\"dataframe\">\n  <thead>\n    <tr style=\"text-align: right;\">\n      <th></th>\n      <th>Open</th>\n      <th>High</th>\n      <th>Low</th>\n      <th>Close</th>\n      <th>Volume</th>\n      <th>Return</th>\n    </tr>\n    <tr>\n      <th>Date</th>\n      <th></th>\n      <th></th>\n      <th></th>\n      <th></th>\n      <th></th>\n      <th></th>\n    </tr>\n  </thead>\n  <tbody>\n    <tr>\n      <th>1998-12-22</th>\n      <td>23.203125</td>\n      <td>23.281250</td>\n      <td>23.203125</td>\n      <td>23.28125</td>\n      <td>600</td>\n      <td>NaN</td>\n    </tr>\n    <tr>\n      <th>1998-12-23</th>\n      <td>23.453125</td>\n      <td>23.750000</td>\n      <td>23.453125</td>\n      <td>23.68750</td>\n      <td>900</td>\n      <td>1.744966</td>\n    </tr>\n    <tr>\n      <th>1998-12-24</th>\n      <td>23.906250</td>\n      <td>24.015625</td>\n      <td>23.828125</td>\n      <td>24.00000</td>\n      <td>1400</td>\n      <td>1.319261</td>\n    </tr>\n    <tr>\n      <th>1998-12-28</th>\n      <td>24.000000</td>\n      <td>24.140625</td>\n      <td>24.000000</td>\n      <td>24.12500</td>\n      <td>7400</td>\n      <td>0.520833</td>\n    </tr>\n    <tr>\n      <th>1998-12-29</th>\n      <td>24.250000</td>\n      <td>24.468750</td>\n      <td>24.250000</td>\n      <td>24.46875</td>\n      <td>1400</td>\n      <td>1.424870</td>\n    </tr>\n  </tbody>\n</table>\n</div>"
     },
     "execution_count": 9,
     "metadata": {},
     "output_type": "execute_result"
    }
   ],
   "source": [
    "train_start_date = '2013-01-01'\n",
    "train_end_date = '2019-12-31'\n",
    "valid_start_date = '2020-01-01'\n",
    "valid_end_date = '2021-12-31'\n",
    "test_start_date = '2022-01-01'\n",
    "test_end_date = '2022-12-02'\n",
    "\n",
    "window = 20\n",
    "ahead = 5\n",
    "\n",
    "XLI_data = pd.read_csv('data/XLI.csv', index_col=0)\n",
    "XLI_data['Return'] = ((XLI_data['Close'] / XLI_data['Close'].shift(1)) - 1) * 100\n",
    "XLI_data = XLI_data.drop('Adj Close', axis=1)\n",
    "XLI_data.head()"
   ],
   "metadata": {
    "collapsed": false,
    "pycharm": {
     "name": "#%%\n"
    }
   }
  },
  {
   "cell_type": "code",
   "execution_count": 10,
   "outputs": [
    {
     "name": "stdout",
     "output_type": "stream",
     "text": [
      "CPU times: total: 8min 52s\n",
      "Wall time: 1min 24s\n"
     ]
    }
   ],
   "source": [
    "%%time\n",
    "reset_session()\n",
    "\n",
    "XLI_model, XLI_run, XLI_rmse = model_build(XLI_data, train_start_date, train_end_date, valid_start_date, valid_end_date,\n",
    "                                           test_start_date, test_end_date, window, ahead)"
   ],
   "metadata": {
    "collapsed": false,
    "pycharm": {
     "name": "#%%\n"
    }
   }
  },
  {
   "cell_type": "code",
   "execution_count": 11,
   "outputs": [
    {
     "data": {
      "text/plain": "<Figure size 800x500 with 1 Axes>",
      "image/png": "[encoded data removed]"
     },
     "metadata": {},
     "output_type": "display_data"
    }
   ],
   "source": [
    "import matplotlib.pyplot as plt\n",
    "\n",
    "pd.DataFrame(XLI_run.history).plot(figsize=(8, 5))\n",
    "plt.grid(True)\n",
    "plt.show()"
   ],
   "metadata": {
    "collapsed": false,
    "pycharm": {
     "name": "#%%\n"
    }
   }
  },
  {
   "cell_type": "code",
   "execution_count": 12,
   "outputs": [
    {
     "data": {
      "text/plain": "array([1.43440534, 1.43278588, 1.4362772 , 1.43200052, 1.42989773])"
     },
     "execution_count": 12,
     "metadata": {},
     "output_type": "execute_result"
    }
   ],
   "source": [
    "XLI_rmse"
   ],
   "metadata": {
    "collapsed": false,
    "pycharm": {
     "name": "#%%\n"
    }
   }
  },
  {
   "cell_type": "markdown",
   "source": [
    "# XLP"
   ],
   "metadata": {
    "collapsed": false,
    "pycharm": {
     "name": "#%% md\n"
    }
   }
  },
  {
   "cell_type": "code",
   "execution_count": 13,
   "outputs": [
    {
     "data": {
      "text/plain": "                 Open       High        Low      Close  Volume    Return\nDate                                                                    \n1998-12-22  25.875000  26.531250  25.875000  26.500000  150300       NaN\n1998-12-23  26.796875  28.796875  26.687500  27.140625   44000  2.417453\n1998-12-24  27.140625  27.140625  27.000000  27.093750   45500 -0.172712\n1998-12-28  27.140625  27.156250  26.812500  26.937500   25400 -0.576701\n1998-12-29  26.953125  27.562500  25.984375  27.531250  123500  2.204176",
      "text/html": "<div>\n<style scoped>\n    .dataframe tbody tr th:only-of-type {\n        vertical-align: middle;\n    }\n\n    .dataframe tbody tr th {\n        vertical-align: top;\n    }\n\n    .dataframe thead th {\n        text-align: right;\n    }\n</style>\n<table border=\"1\" class=\"dataframe\">\n  <thead>\n    <tr style=\"text-align: right;\">\n      <th></th>\n      <th>Open</th>\n      <th>High</th>\n      <th>Low</th>\n      <th>Close</th>\n      <th>Volume</th>\n      <th>Return</th>\n    </tr>\n    <tr>\n      <th>Date</th>\n      <th></th>\n      <th></th>\n      <th></th>\n      <th></th>\n      <th></th>\n      <th></th>\n    </tr>\n  </thead>\n  <tbody>\n    <tr>\n      <th>1998-12-22</th>\n      <td>25.875000</td>\n      <td>26.531250</td>\n      <td>25.875000</td>\n      <td>26.500000</td>\n      <td>150300</td>\n      <td>NaN</td>\n    </tr>\n    <tr>\n      <th>1998-12-23</th>\n      <td>26.796875</td>\n      <td>28.796875</td>\n      <td>26.687500</td>\n      <td>27.140625</td>\n      <td>44000</td>\n      <td>2.417453</td>\n    </tr>\n    <tr>\n      <th>1998-12-24</th>\n      <td>27.140625</td>\n      <td>27.140625</td>\n      <td>27.000000</td>\n      <td>27.093750</td>\n      <td>45500</td>\n      <td>-0.172712</td>\n    </tr>\n    <tr>\n      <th>1998-12-28</th>\n      <td>27.140625</td>\n      <td>27.156250</td>\n      <td>26.812500</td>\n      <td>26.937500</td>\n      <td>25400</td>\n      <td>-0.576701</td>\n    </tr>\n    <tr>\n      <th>1998-12-29</th>\n      <td>26.953125</td>\n      <td>27.562500</td>\n      <td>25.984375</td>\n      <td>27.531250</td>\n      <td>123500</td>\n      <td>2.204176</td>\n    </tr>\n  </tbody>\n</table>\n</div>"
     },
     "execution_count": 13,
     "metadata": {},
     "output_type": "execute_result"
    }
   ],
   "source": [
    "train_start_date = '2013-01-01'\n",
    "train_end_date = '2019-12-31'\n",
    "valid_start_date = '2020-01-01'\n",
    "valid_end_date = '2021-12-31'\n",
    "test_start_date = '2022-01-01'\n",
    "test_end_date = '2022-12-02'\n",
    "\n",
    "window = 20\n",
    "ahead = 5\n",
    "\n",
    "XLP_data = pd.read_csv('data/XLP.csv', index_col=0)\n",
    "XLP_data['Return'] = ((XLP_data['Close'] / XLP_data['Close'].shift(1)) - 1) * 100\n",
    "XLP_data = XLP_data.drop('Adj Close', axis=1)\n",
    "XLP_data.head()"
   ],
   "metadata": {
    "collapsed": false,
    "pycharm": {
     "name": "#%%\n"
    }
   }
  },
  {
   "cell_type": "code",
   "execution_count": 14,
   "outputs": [
    {
     "name": "stdout",
     "output_type": "stream",
     "text": [
      "CPU times: total: 26min\n",
      "Wall time: 3min 51s\n"
     ]
    }
   ],
   "source": [
    "%%time\n",
    "reset_session()\n",
    "\n",
    "XLP_model, XLP_run, XLP_rmse = model_build(XLP_data, train_start_date, train_end_date, valid_start_date, valid_end_date,\n",
    "                                           test_start_date, test_end_date, window, ahead)"
   ],
   "metadata": {
    "collapsed": false,
    "pycharm": {
     "name": "#%%\n"
    }
   }
  },
  {
   "cell_type": "code",
   "execution_count": 15,
   "outputs": [
    {
     "data": {
      "text/plain": "<Figure size 800x500 with 1 Axes>",
      "image/png": "[encoded data removed]"
     },
     "metadata": {},
     "output_type": "display_data"
    }
   ],
   "source": [
    "import matplotlib.pyplot as plt\n",
    "\n",
    "pd.DataFrame(XLP_run.history).plot(figsize=(8, 5))\n",
    "plt.grid(True)\n",
    "plt.show()"
   ],
   "metadata": {
    "collapsed": false,
    "pycharm": {
     "name": "#%%\n"
    }
   }
  },
  {
   "cell_type": "code",
   "execution_count": 16,
   "outputs": [
    {
     "data": {
      "text/plain": "array([1.15466951, 1.15409846, 1.15889342, 1.16071843, 1.15780346])"
     },
     "execution_count": 16,
     "metadata": {},
     "output_type": "execute_result"
    }
   ],
   "source": [
    "XLP_rmse"
   ],
   "metadata": {
    "collapsed": false,
    "pycharm": {
     "name": "#%%\n"
    }
   }
  },
  {
   "cell_type": "markdown",
   "source": [
    "# New Algorithm Attempt"
   ],
   "metadata": {
    "collapsed": false,
    "pycharm": {
     "name": "#%% md\n"
    }
   }
  },
  {
   "cell_type": "code",
   "execution_count": 29,
   "outputs": [
    {
     "data": {
      "text/plain": "               Open       High        Low     Close  Volume    Return\nDate                                                                 \n1998-12-23  32.7500  32.812500  32.156250  32.81250  338300  2.389078\n1998-12-24  32.8125  32.812500  32.562500  32.68750  243700 -0.380952\n1998-12-28  33.1875  33.187500  32.593750  32.78125  309300  0.286807\n1998-12-29  32.9375  33.015625  32.500000  32.87500  123800  0.285987\n1998-12-30  32.6875  33.140625  32.578125  32.75000   95600 -0.380228",
      "text/html": "<div>\n<style scoped>\n    .dataframe tbody tr th:only-of-type {\n        vertical-align: middle;\n    }\n\n    .dataframe tbody tr th {\n        vertical-align: top;\n    }\n\n    .dataframe thead th {\n        text-align: right;\n    }\n</style>\n<table border=\"1\" class=\"dataframe\">\n  <thead>\n    <tr style=\"text-align: right;\">\n      <th></th>\n      <th>Open</th>\n      <th>High</th>\n      <th>Low</th>\n      <th>Close</th>\n      <th>Volume</th>\n      <th>Return</th>\n    </tr>\n    <tr>\n      <th>Date</th>\n      <th></th>\n      <th></th>\n      <th></th>\n      <th></th>\n      <th></th>\n      <th></th>\n    </tr>\n  </thead>\n  <tbody>\n    <tr>\n      <th>1998-12-23</th>\n      <td>32.7500</td>\n      <td>32.812500</td>\n      <td>32.156250</td>\n      <td>32.81250</td>\n      <td>338300</td>\n      <td>2.389078</td>\n    </tr>\n    <tr>\n      <th>1998-12-24</th>\n      <td>32.8125</td>\n      <td>32.812500</td>\n      <td>32.562500</td>\n      <td>32.68750</td>\n      <td>243700</td>\n      <td>-0.380952</td>\n    </tr>\n    <tr>\n      <th>1998-12-28</th>\n      <td>33.1875</td>\n      <td>33.187500</td>\n      <td>32.593750</td>\n      <td>32.78125</td>\n      <td>309300</td>\n      <td>0.286807</td>\n    </tr>\n    <tr>\n      <th>1998-12-29</th>\n      <td>32.9375</td>\n      <td>33.015625</td>\n      <td>32.500000</td>\n      <td>32.87500</td>\n      <td>123800</td>\n      <td>0.285987</td>\n    </tr>\n    <tr>\n      <th>1998-12-30</th>\n      <td>32.6875</td>\n      <td>33.140625</td>\n      <td>32.578125</td>\n      <td>32.75000</td>\n      <td>95600</td>\n      <td>-0.380228</td>\n    </tr>\n  </tbody>\n</table>\n</div>"
     },
     "execution_count": 29,
     "metadata": {},
     "output_type": "execute_result"
    }
   ],
   "source": [
    "import numpy as np\n",
    "import pandas as pd\n",
    "\n",
    "data = pd.read_csv('data/XLK.csv', index_col=0)\n",
    "data = data.drop('Adj Close', axis=1)\n",
    "data['Return'] = ((data['Close'] / data['Close'].shift(1)) - 1) * 100\n",
    "data = data.dropna()\n",
    "data.head()"
   ],
   "metadata": {
    "collapsed": false,
    "pycharm": {
     "name": "#%%\n"
    }
   }
  },
  {
   "cell_type": "code",
   "execution_count": 30,
   "outputs": [
    {
     "data": {
      "text/plain": "               Open       High        Low     Close  Volume    Return  \\\nDate                                                                    \n1998-12-23  32.7500  32.812500  32.156250  32.81250  338300  2.389078   \n1998-12-24  32.8125  32.812500  32.562500  32.68750  243700 -0.380952   \n1998-12-28  33.1875  33.187500  32.593750  32.78125  309300  0.286807   \n1998-12-29  32.9375  33.015625  32.500000  32.87500  123800  0.285987   \n1998-12-30  32.6875  33.140625  32.578125  32.75000   95600 -0.380228   \n\n              Open1      High1      Low1    Close1  ...  Low8  Close8  \\\nDate                                                ...                 \n1998-12-23      NaN        NaN       NaN       NaN  ...   NaN     NaN   \n1998-12-24  32.7500  32.812500  32.15625  32.81250  ...   NaN     NaN   \n1998-12-28  32.8125  32.812500  32.56250  32.68750  ...   NaN     NaN   \n1998-12-29  33.1875  33.187500  32.59375  32.78125  ...   NaN     NaN   \n1998-12-30  32.9375  33.015625  32.50000  32.87500  ...   NaN     NaN   \n\n            Volume8  Return8  Open9  High9  Low9  Close9  Volume9  Return9  \nDate                                                                        \n1998-12-23      NaN      NaN    NaN    NaN   NaN     NaN      NaN      NaN  \n1998-12-24      NaN      NaN    NaN    NaN   NaN     NaN      NaN      NaN  \n1998-12-28      NaN      NaN    NaN    NaN   NaN     NaN      NaN      NaN  \n1998-12-29      NaN      NaN    NaN    NaN   NaN     NaN      NaN      NaN  \n1998-12-30      NaN      NaN    NaN    NaN   NaN     NaN      NaN      NaN  \n\n[5 rows x 60 columns]",
      "text/html": "<div>\n<style scoped>\n    .dataframe tbody tr th:only-of-type {\n        vertical-align: middle;\n    }\n\n    .dataframe tbody tr th {\n        vertical-align: top;\n    }\n\n    .dataframe thead th {\n        text-align: right;\n    }\n</style>\n<table border=\"1\" class=\"dataframe\">\n  <thead>\n    <tr style=\"text-align: right;\">\n      <th></th>\n      <th>Open</th>\n      <th>High</th>\n      <th>Low</th>\n      <th>Close</th>\n      <th>Volume</th>\n      <th>Return</th>\n      <th>Open1</th>\n      <th>High1</th>\n      <th>Low1</th>\n      <th>Close1</th>\n      <th>...</th>\n      <th>Low8</th>\n      <th>Close8</th>\n      <th>Volume8</th>\n      <th>Return8</th>\n      <th>Open9</th>\n      <th>High9</th>\n      <th>Low9</th>\n      <th>Close9</th>\n      <th>Volume9</th>\n      <th>Return9</th>\n    </tr>\n    <tr>\n      <th>Date</th>\n      <th></th>\n      <th></th>\n      <th></th>\n      <th></th>\n      <th></th>\n      <th></th>\n      <th></th>\n      <th></th>\n      <th></th>\n      <th></th>\n      <th></th>\n      <th></th>\n      <th></th>\n      <th></th>\n      <th></th>\n      <th></th>\n      <th></th>\n      <th></th>\n      <th></th>\n      <th></th>\n      <th></th>\n    </tr>\n  </thead>\n  <tbody>\n    <tr>\n      <th>1998-12-23</th>\n      <td>32.7500</td>\n      <td>32.812500</td>\n      <td>32.156250</td>\n      <td>32.81250</td>\n      <td>338300</td>\n      <td>2.389078</td>\n      <td>NaN</td>\n      <td>NaN</td>\n      <td>NaN</td>\n      <td>NaN</td>\n      <td>...</td>\n      <td>NaN</td>\n      <td>NaN</td>\n      <td>NaN</td>\n      <td>NaN</td>\n      <td>NaN</td>\n      <td>NaN</td>\n      <td>NaN</td>\n      <td>NaN</td>\n      <td>NaN</td>\n      <td>NaN</td>\n    </tr>\n    <tr>\n      <th>1998-12-24</th>\n      <td>32.8125</td>\n      <td>32.812500</td>\n      <td>32.562500</td>\n      <td>32.68750</td>\n      <td>243700</td>\n      <td>-0.380952</td>\n      <td>32.7500</td>\n      <td>32.812500</td>\n      <td>32.15625</td>\n      <td>32.81250</td>\n      <td>...</td>\n      <td>NaN</td>\n      <td>NaN</td>\n      <td>NaN</td>\n      <td>NaN</td>\n      <td>NaN</td>\n      <td>NaN</td>\n      <td>NaN</td>\n      <td>NaN</td>\n      <td>NaN</td>\n      <td>NaN</td>\n    </tr>\n    <tr>\n      <th>1998-12-28</th>\n      <td>33.1875</td>\n      <td>33.187500</td>\n      <td>32.593750</td>\n      <td>32.78125</td>\n      <td>309300</td>\n      <td>0.286807</td>\n      <td>32.8125</td>\n      <td>32.812500</td>\n      <td>32.56250</td>\n      <td>32.68750</td>\n      <td>...</td>\n      <td>NaN</td>\n      <td>NaN</td>\n      <td>NaN</td>\n      <td>NaN</td>\n      <td>NaN</td>\n      <td>NaN</td>\n      <td>NaN</td>\n      <td>NaN</td>\n      <td>NaN</td>\n      <td>NaN</td>\n    </tr>\n    <tr>\n      <th>1998-12-29</th>\n      <td>32.9375</td>\n      <td>33.015625</td>\n      <td>32.500000</td>\n      <td>32.87500</td>\n      <td>123800</td>\n      <td>0.285987</td>\n      <td>33.1875</td>\n      <td>33.187500</td>\n      <td>32.59375</td>\n      <td>32.78125</td>\n      <td>...</td>\n      <td>NaN</td>\n      <td>NaN</td>\n      <td>NaN</td>\n      <td>NaN</td>\n      <td>NaN</td>\n      <td>NaN</td>\n      <td>NaN</td>\n      <td>NaN</td>\n      <td>NaN</td>\n      <td>NaN</td>\n    </tr>\n    <tr>\n      <th>1998-12-30</th>\n      <td>32.6875</td>\n      <td>33.140625</td>\n      <td>32.578125</td>\n      <td>32.75000</td>\n      <td>95600</td>\n      <td>-0.380228</td>\n      <td>32.9375</td>\n      <td>33.015625</td>\n      <td>32.50000</td>\n      <td>32.87500</td>\n      <td>...</td>\n      <td>NaN</td>\n      <td>NaN</td>\n      <td>NaN</td>\n      <td>NaN</td>\n      <td>NaN</td>\n      <td>NaN</td>\n      <td>NaN</td>\n      <td>NaN</td>\n      <td>NaN</td>\n      <td>NaN</td>\n    </tr>\n  </tbody>\n</table>\n<p>5 rows × 60 columns</p>\n</div>"
     },
     "execution_count": 30,
     "metadata": {},
     "output_type": "execute_result"
    }
   ],
   "source": [
    "for i in range(1, 10):\n",
    "    data['Open' + str(i)] = data['Open'].shift(i)\n",
    "    data['High' + str(i)] = data['High'].shift(i)\n",
    "    data['Low' + str(i)] = data['Low'].shift(i)\n",
    "    data['Close' + str(i)] = data['Close'].shift(i)\n",
    "    data['Volume' + str(i)] = data['Volume'].shift(i)\n",
    "    data['Return' + str(i)] = data['Return'].shift(i)\n",
    "\n",
    "data.head()"
   ],
   "metadata": {
    "collapsed": false,
    "pycharm": {
     "name": "#%%\n"
    }
   }
  },
  {
   "cell_type": "code",
   "execution_count": 31,
   "outputs": [
    {
     "data": {
      "text/plain": "                 Open       High        Low      Close   Volume    Return  \\\nDate                                                                        \n1999-10-14  41.125000  41.312500  40.312500  40.828125   700500 -0.570776   \n1999-10-15  40.015625  40.500000  39.531250  39.859375  1048800 -2.372752   \n1999-10-18  39.765625  39.968750  38.468750  39.500000  1505900 -0.901607   \n1999-10-19  39.937500  40.000000  38.671875  38.875000  1473900 -1.582278   \n1999-10-20  39.875000  40.453125  39.562500  40.437500   398400  4.019293   \n\n                Open1     High1       Low1     Close1  ...        D10  \\\nDate                                                   ...              \n1999-10-14  41.812500  42.06250  40.750000  41.062500  ...  57.941407   \n1999-10-15  41.125000  41.31250  40.312500  40.828125  ...  37.435504   \n1999-10-18  40.015625  40.50000  39.531250  39.859375  ...  22.928316   \n1999-10-19  39.765625  39.96875  38.468750  39.500000  ...  15.483853   \n1999-10-20  39.937500  40.00000  38.671875  38.875000  ...  17.755843   \n\n                  K30        D30       K200       D200  Return-1  Return-2  \\\nDate                                                                         \n1999-10-14  33.333333  49.596774  77.951389  83.203125 -2.372752 -0.901607   \n1999-10-15  17.670442  34.160757  71.527778  77.763310 -0.901607 -1.582278   \n1999-10-18  15.354005  22.119260  67.187500  72.222222 -1.582278  4.019293   \n1999-10-19  11.244174  14.756207  61.762153  66.825810  4.019293 -1.622875   \n1999-10-20  20.761905  15.786695  63.368056  64.105903 -1.622875  0.235664   \n\n            Return-3  Return-4  Return-5  \nDate                                      \n1999-10-14 -1.582278  4.019293 -1.622875  \n1999-10-15  4.019293 -1.622875  0.235664  \n1999-10-18 -1.622875  0.235664  0.274295  \n1999-10-19  0.235664  0.274295  0.039078  \n1999-10-20  0.274295  0.039078 -0.117188  \n\n[5 rows x 83 columns]",
      "text/html": "<div>\n<style scoped>\n    .dataframe tbody tr th:only-of-type {\n        vertical-align: middle;\n    }\n\n    .dataframe tbody tr th {\n        vertical-align: top;\n    }\n\n    .dataframe thead th {\n        text-align: right;\n    }\n</style>\n<table border=\"1\" class=\"dataframe\">\n  <thead>\n    <tr style=\"text-align: right;\">\n      <th></th>\n      <th>Open</th>\n      <th>High</th>\n      <th>Low</th>\n      <th>Close</th>\n      <th>Volume</th>\n      <th>Return</th>\n      <th>Open1</th>\n      <th>High1</th>\n      <th>Low1</th>\n      <th>Close1</th>\n      <th>...</th>\n      <th>D10</th>\n      <th>K30</th>\n      <th>D30</th>\n      <th>K200</th>\n      <th>D200</th>\n      <th>Return-1</th>\n      <th>Return-2</th>\n      <th>Return-3</th>\n      <th>Return-4</th>\n      <th>Return-5</th>\n    </tr>\n    <tr>\n      <th>Date</th>\n      <th></th>\n      <th></th>\n      <th></th>\n      <th></th>\n      <th></th>\n      <th></th>\n      <th></th>\n      <th></th>\n      <th></th>\n      <th></th>\n      <th></th>\n      <th></th>\n      <th></th>\n      <th></th>\n      <th></th>\n      <th></th>\n      <th></th>\n      <th></th>\n      <th></th>\n      <th></th>\n      <th></th>\n    </tr>\n  </thead>\n  <tbody>\n    <tr>\n      <th>1999-10-14</th>\n      <td>41.125000</td>\n      <td>41.312500</td>\n      <td>40.312500</td>\n      <td>40.828125</td>\n      <td>700500</td>\n      <td>-0.570776</td>\n      <td>41.812500</td>\n      <td>42.06250</td>\n      <td>40.750000</td>\n      <td>41.062500</td>\n      <td>...</td>\n      <td>57.941407</td>\n      <td>33.333333</td>\n      <td>49.596774</td>\n      <td>77.951389</td>\n      <td>83.203125</td>\n      <td>-2.372752</td>\n      <td>-0.901607</td>\n      <td>-1.582278</td>\n      <td>4.019293</td>\n      <td>-1.622875</td>\n    </tr>\n    <tr>\n      <th>1999-10-15</th>\n      <td>40.015625</td>\n      <td>40.500000</td>\n      <td>39.531250</td>\n      <td>39.859375</td>\n      <td>1048800</td>\n      <td>-2.372752</td>\n      <td>41.125000</td>\n      <td>41.31250</td>\n      <td>40.312500</td>\n      <td>40.828125</td>\n      <td>...</td>\n      <td>37.435504</td>\n      <td>17.670442</td>\n      <td>34.160757</td>\n      <td>71.527778</td>\n      <td>77.763310</td>\n      <td>-0.901607</td>\n      <td>-1.582278</td>\n      <td>4.019293</td>\n      <td>-1.622875</td>\n      <td>0.235664</td>\n    </tr>\n    <tr>\n      <th>1999-10-18</th>\n      <td>39.765625</td>\n      <td>39.968750</td>\n      <td>38.468750</td>\n      <td>39.500000</td>\n      <td>1505900</td>\n      <td>-0.901607</td>\n      <td>40.015625</td>\n      <td>40.50000</td>\n      <td>39.531250</td>\n      <td>39.859375</td>\n      <td>...</td>\n      <td>22.928316</td>\n      <td>15.354005</td>\n      <td>22.119260</td>\n      <td>67.187500</td>\n      <td>72.222222</td>\n      <td>-1.582278</td>\n      <td>4.019293</td>\n      <td>-1.622875</td>\n      <td>0.235664</td>\n      <td>0.274295</td>\n    </tr>\n    <tr>\n      <th>1999-10-19</th>\n      <td>39.937500</td>\n      <td>40.000000</td>\n      <td>38.671875</td>\n      <td>38.875000</td>\n      <td>1473900</td>\n      <td>-1.582278</td>\n      <td>39.765625</td>\n      <td>39.96875</td>\n      <td>38.468750</td>\n      <td>39.500000</td>\n      <td>...</td>\n      <td>15.483853</td>\n      <td>11.244174</td>\n      <td>14.756207</td>\n      <td>61.762153</td>\n      <td>66.825810</td>\n      <td>4.019293</td>\n      <td>-1.622875</td>\n      <td>0.235664</td>\n      <td>0.274295</td>\n      <td>0.039078</td>\n    </tr>\n    <tr>\n      <th>1999-10-20</th>\n      <td>39.875000</td>\n      <td>40.453125</td>\n      <td>39.562500</td>\n      <td>40.437500</td>\n      <td>398400</td>\n      <td>4.019293</td>\n      <td>39.937500</td>\n      <td>40.00000</td>\n      <td>38.671875</td>\n      <td>38.875000</td>\n      <td>...</td>\n      <td>17.755843</td>\n      <td>20.761905</td>\n      <td>15.786695</td>\n      <td>63.368056</td>\n      <td>64.105903</td>\n      <td>-1.622875</td>\n      <td>0.235664</td>\n      <td>0.274295</td>\n      <td>0.039078</td>\n      <td>-0.117188</td>\n    </tr>\n  </tbody>\n</table>\n<p>5 rows × 83 columns</p>\n</div>"
     },
     "execution_count": 31,
     "metadata": {},
     "output_type": "execute_result"
    }
   ],
   "source": [
    "import talib as ta\n",
    "\n",
    "# create artificial features (technical indicators)\n",
    "data['SMA10'] = ta.SMA(data['Close'], timeperiod=10)\n",
    "data['SMA30'] = ta.SMA(data['Close'], timeperiod=30)\n",
    "data['SMA200'] = ta.SMA(data['Close'], timeperiod=200)\n",
    "data['EMA10'] = ta.EMA(data['Close'], timeperiod=10)\n",
    "data['EMA30'] = ta.EMA(data['Close'], timeperiod=30)\n",
    "data['EMA200'] = ta.EMA(data['Close'], timeperiod=200)\n",
    "data['MOM10'] = ta.MOM(data['Close'], timeperiod=10)\n",
    "data['MOM30'] = ta.MOM(data['Close'], timeperiod=30)\n",
    "data['MOM200'] = ta.MOM(data['Close'], timeperiod=200)\n",
    "data['RSI10'] = ta.RSI(data['Close'], timeperiod=10)\n",
    "data['RSI30'] = ta.RSI(data['Close'], timeperiod=30)\n",
    "data['RSI200'] = ta.RSI(data['Close'], timeperiod=200)\n",
    "data['K10'], data['D10'] = ta.STOCH(data['High'], data['Low'], data['Close'], fastk_period=10)\n",
    "data['K30'], data['D30'] = ta.STOCH(data['High'], data['Low'], data['Close'], fastk_period=30)\n",
    "data['K200'], data['D200'] = ta.STOCH(data['High'], data['Low'], data['Close'], fastk_period=200)\n",
    "\n",
    "data['Return-1'] = data['Return'].shift(-1)\n",
    "data['Return-2'] = data['Return'].shift(-2)\n",
    "data['Return-3'] = data['Return'].shift(-3)\n",
    "data['Return-4'] = data['Return'].shift(-4)\n",
    "data['Return-5'] = data['Return'].shift(-5)\n",
    "\n",
    "data = data.dropna()\n",
    "data.head()"
   ],
   "metadata": {
    "collapsed": false,
    "pycharm": {
     "name": "#%%\n"
    }
   }
  },
  {
   "cell_type": "code",
   "execution_count": 32,
   "outputs": [],
   "source": [
    "# split into train set and test set\n",
    "X_train = data['2010-01-01':'2021-12-31'].iloc[:, 0:-5]\n",
    "y_train = data['2010-01-01':'2021-12-31'].iloc[:, -5:]\n",
    "X_test = data['2022-01-01':'2022-12-31'].iloc[:, 0:-5]\n",
    "y_test = data['2022-01-01':'2022-12-31'].iloc[:, -5:]"
   ],
   "metadata": {
    "collapsed": false,
    "pycharm": {
     "name": "#%%\n"
    }
   }
  },
  {
   "cell_type": "code",
   "execution_count": null,
   "outputs": [],
   "source": [
    "%%time\n",
    "from xgboost import XGBRegressor\n",
    "from sklearn.model_selection import GridSearchCV\n",
    "from sklearn.multioutput import MultiOutputRegressor\n",
    "\n",
    "param_grids = {\n",
    "    \"n_estimators\": [50, 100, 200, 500],\n",
    "    \"max_depth\": [2, 3, 4, 5, 6],\n",
    "    \"gamma\": [0, 0.1, 0.2, 0.5],\n",
    "    \"learning_rate\": [0.005, 0.01, 0.05, 0.1, 0.2, 0.5],\n",
    "    \"min_child_weight\": [1, 2, 4, 8, 16]\n",
    "}\n",
    "\n",
    "xgb = XGBRegressor(random_state=42)\n",
    "gsc = GridSearchCV(xgb, param_grids, cv=3,\n",
    "                   scoring='neg_mean_squared_error')\n",
    "grid_result = MultiOutputRegressor(gsc).fit(X_train, y_train)"
   ],
   "metadata": {
    "collapsed": false,
    "pycharm": {
     "name": "#%%\n",
     "is_executing": true
    }
   }
  },
  {
   "cell_type": "code",
   "execution_count": 12,
   "outputs": [
    {
     "data": {
      "text/plain": "{'gamma': 0.5,\n 'learning_rate': 0.05,\n 'max_depth': 3,\n 'min_child_weight': 8,\n 'n_estimators': 100}"
     },
     "execution_count": 12,
     "metadata": {},
     "output_type": "execute_result"
    }
   ],
   "source": [
    "# best hyperparameters\n",
    "best_model = grid_search.best_estimator_\n",
    "grid_search.best_params_"
   ],
   "metadata": {
    "collapsed": false,
    "pycharm": {
     "name": "#%%\n"
    }
   }
  },
  {
   "cell_type": "code",
   "execution_count": 30,
   "outputs": [
    {
     "data": {
      "text/plain": "1.8248521831793088"
     },
     "execution_count": 30,
     "metadata": {},
     "output_type": "execute_result"
    }
   ],
   "source": [
    "from sklearn.metrics import mean_squared_error\n",
    "\n",
    "y_pred = best_model.predict(X_test)\n",
    "rmse = np.sqrt(mean_squared_error(y_test, y_pred))\n",
    "rmse"
   ],
   "metadata": {
    "collapsed": false,
    "pycharm": {
     "name": "#%%\n"
    }
   }
  },
  {
   "cell_type": "code",
   "execution_count": 31,
   "outputs": [
    {
     "data": {
      "text/plain": "0.7372881355932204"
     },
     "execution_count": 31,
     "metadata": {},
     "output_type": "execute_result"
    }
   ],
   "source": [
    "from sklearn.metrics import accuracy_score\n",
    "\n",
    "y_test_bin = np.where(y_test>0, 1, 0)\n",
    "y_pred_bin = np.where(y_pred>0, 1, 0)\n",
    "accuracy_score(y_pred_bin, y_test_bin)"
   ],
   "metadata": {
    "collapsed": false,
    "pycharm": {
     "name": "#%%\n"
    }
   }
  },
  {
   "cell_type": "code",
   "execution_count": null,
   "outputs": [],
   "source": [],
   "metadata": {
    "collapsed": false,
    "pycharm": {
     "name": "#%%\n"
    }
   }
  }
 ],
 "metadata": {
  "kernelspec": {
   "display_name": "Python 3",
   "language": "python",
   "name": "python3"
  },
  "language_info": {
   "codemirror_mode": {
    "name": "ipython",
    "version": 2
   },
   "file_extension": ".py",
   "mimetype": "text/x-python",
   "name": "python",
   "nbconvert_exporter": "python",
   "pygments_lexer": "ipython2",
   "version": "2.7.6"
  }
 },
 "nbformat": 4,
 "nbformat_minor": 0
}